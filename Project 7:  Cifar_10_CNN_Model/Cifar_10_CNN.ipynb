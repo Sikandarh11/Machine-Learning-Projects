{
  "metadata": {
    "kernelspec": {
      "language": "python",
      "display_name": "Python 3",
      "name": "python3"
    },
    "language_info": {
      "name": "python",
      "version": "3.10.13",
      "mimetype": "text/x-python",
      "codemirror_mode": {
        "name": "ipython",
        "version": 3
      },
      "pygments_lexer": "ipython3",
      "nbconvert_exporter": "python",
      "file_extension": ".py"
    },
    "kaggle": {
      "accelerator": "gpu",
      "dataSources": [
        {
          "sourceId": 9012238,
          "sourceType": "datasetVersion",
          "datasetId": 5430016
        }
      ],
      "isInternetEnabled": true,
      "language": "python",
      "sourceType": "notebook",
      "isGpuEnabled": true
    },
    "colab": {
      "name": "Cifar-10-CNN",
      "provenance": [],
      "include_colab_link": true
    }
  },
  "nbformat_minor": 0,
  "nbformat": 4,
  "cells": [
    {
      "cell_type": "markdown",
      "metadata": {
        "id": "view-in-github",
        "colab_type": "text"
      },
      "source": [
        "<a href=\"https://colab.research.google.com/github/Sikandarh11/Machine-Learning-Projects/blob/main/Cifar_10_CNN.ipynb\" target=\"_parent\"><img src=\"https://colab.research.google.com/assets/colab-badge.svg\" alt=\"Open In Colab\"/></a>"
      ]
    },
    {
      "source": [
        "\n",
        "# IMPORTANT: RUN THIS CELL IN ORDER TO IMPORT YOUR KAGGLE DATA SOURCES\n",
        "# TO THE CORRECT LOCATION (/kaggle/input) IN YOUR NOTEBOOK,\n",
        "# THEN FEEL FREE TO DELETE THIS CELL.\n",
        "# NOTE: THIS NOTEBOOK ENVIRONMENT DIFFERS FROM KAGGLE'S PYTHON\n",
        "# ENVIRONMENT SO THERE MAY BE MISSING LIBRARIES USED BY YOUR\n",
        "# NOTEBOOK.\n",
        "\n",
        "import os\n",
        "import sys\n",
        "from tempfile import NamedTemporaryFile\n",
        "from urllib.request import urlopen\n",
        "from urllib.parse import unquote, urlparse\n",
        "from urllib.error import HTTPError\n",
        "from zipfile import ZipFile\n",
        "import tarfile\n",
        "import shutil\n",
        "\n",
        "CHUNK_SIZE = 40960\n",
        "DATA_SOURCE_MAPPING = 'cat-pik:https%3A%2F%2Fstorage.googleapis.com%2Fkaggle-data-sets%2F5430016%2F9012238%2Fbundle%2Farchive.zip%3FX-Goog-Algorithm%3DGOOG4-RSA-SHA256%26X-Goog-Credential%3Dgcp-kaggle-com%2540kaggle-161607.iam.gserviceaccount.com%252F20240723%252Fauto%252Fstorage%252Fgoog4_request%26X-Goog-Date%3D20240723T094552Z%26X-Goog-Expires%3D259200%26X-Goog-SignedHeaders%3Dhost%26X-Goog-Signature%3D059e88e39190e1ae6b59082f5dc4d9f5a1c3fae2ff526cc5ad75d8891a84549ef74b4eccd50843222c7aae4be030bdf7affdba8ac7d1c80c27ba3661d46e73782eaa55ce410e8b708a9a57f6c46982ebe0ddfaac5500d88e13ff1031ddb93479f5e8d646f95c74a1226ff827a879bdedfe1bed88e799b6ba939fc7866b012027562297d5138daac86fcdf27b42a3736957c054b2b786a85312f9c5947c3e73ff72d9d784aba5c01f0c271b5d1c1e1b3e5b343bf6fac529103d5a8c8bd1f32eb6627bec4faed4dac865c59603deb80615e771590fe0ea13529ec3231c05315d7bc3d8c0017fdcee4d7146868d1c02baaf9fb31d9c77ecb534e42a40b1a0b188ff'\n",
        "\n",
        "KAGGLE_INPUT_PATH='/kaggle/input'\n",
        "KAGGLE_WORKING_PATH='/kaggle/working'\n",
        "KAGGLE_SYMLINK='kaggle'\n",
        "\n",
        "!umount /kaggle/input/ 2> /dev/null\n",
        "shutil.rmtree('/kaggle/input', ignore_errors=True)\n",
        "os.makedirs(KAGGLE_INPUT_PATH, 0o777, exist_ok=True)\n",
        "os.makedirs(KAGGLE_WORKING_PATH, 0o777, exist_ok=True)\n",
        "\n",
        "try:\n",
        "  os.symlink(KAGGLE_INPUT_PATH, os.path.join(\"..\", 'input'), target_is_directory=True)\n",
        "except FileExistsError:\n",
        "  pass\n",
        "try:\n",
        "  os.symlink(KAGGLE_WORKING_PATH, os.path.join(\"..\", 'working'), target_is_directory=True)\n",
        "except FileExistsError:\n",
        "  pass\n",
        "\n",
        "for data_source_mapping in DATA_SOURCE_MAPPING.split(','):\n",
        "    directory, download_url_encoded = data_source_mapping.split(':')\n",
        "    download_url = unquote(download_url_encoded)\n",
        "    filename = urlparse(download_url).path\n",
        "    destination_path = os.path.join(KAGGLE_INPUT_PATH, directory)\n",
        "    try:\n",
        "        with urlopen(download_url) as fileres, NamedTemporaryFile() as tfile:\n",
        "            total_length = fileres.headers['content-length']\n",
        "            print(f'Downloading {directory}, {total_length} bytes compressed')\n",
        "            dl = 0\n",
        "            data = fileres.read(CHUNK_SIZE)\n",
        "            while len(data) > 0:\n",
        "                dl += len(data)\n",
        "                tfile.write(data)\n",
        "                done = int(50 * dl / int(total_length))\n",
        "                sys.stdout.write(f\"\\r[{'=' * done}{' ' * (50-done)}] {dl} bytes downloaded\")\n",
        "                sys.stdout.flush()\n",
        "                data = fileres.read(CHUNK_SIZE)\n",
        "            if filename.endswith('.zip'):\n",
        "              with ZipFile(tfile) as zfile:\n",
        "                zfile.extractall(destination_path)\n",
        "            else:\n",
        "              with tarfile.open(tfile.name) as tarfile:\n",
        "                tarfile.extractall(destination_path)\n",
        "            print(f'\\nDownloaded and uncompressed: {directory}')\n",
        "    except HTTPError as e:\n",
        "        print(f'Failed to load (likely expired) {download_url} to path {destination_path}')\n",
        "        continue\n",
        "    except OSError as e:\n",
        "        print(f'Failed to load {download_url} to path {destination_path}')\n",
        "        continue\n",
        "\n",
        "print('Data source import complete.')\n"
      ],
      "metadata": {
        "id": "Xdt-EjJ--7I5"
      },
      "cell_type": "code",
      "outputs": [],
      "execution_count": null
    },
    {
      "cell_type": "code",
      "source": [
        "# This Python 3 environment comes with many helpful analytics libraries installed\n",
        "# It is defined by the kaggle/python Docker image: https://github.com/kaggle/docker-python\n",
        "# For example, here's several helpful packages to load\n",
        "\n",
        "import numpy as np # linear algebra\n",
        "import pandas as pd # data processing, CSV file I/O (e.g. pd.read_csv)\n",
        "\n",
        "# Input data files are available in the read-only \"../input/\" directory\n",
        "# For example, running this (by clicking run or pressing Shift+Enter) will list all files under the input directory\n",
        "\n",
        "import os\n",
        "for dirname, _, filenames in os.walk('/kaggle/input'):\n",
        "    for filename in filenames:\n",
        "        (os.path.join(dirname, filename))\n",
        "\n",
        "# You can write up to 20GB to the current directory (/kaggle/working/) that gets preserved as output when you create a version using \"Save & Run All\"\n",
        "# You can also write temporary files to /kaggle/temp/, but they won't be saved outside of the current session"
      ],
      "metadata": {
        "_uuid": "8f2839f25d086af736a60e9eeb907d3b93b6e0e5",
        "_cell_guid": "b1076dfc-b9ad-4769-8c92-a6c4dae69d19",
        "execution": {
          "iopub.status.busy": "2024-07-23T08:49:12.199809Z",
          "iopub.execute_input": "2024-07-23T08:49:12.200646Z",
          "iopub.status.idle": "2024-07-23T08:49:12.211783Z",
          "shell.execute_reply.started": "2024-07-23T08:49:12.200607Z",
          "shell.execute_reply": "2024-07-23T08:49:12.210621Z"
        },
        "trusted": true,
        "id": "69Z9vFex-7I-"
      },
      "execution_count": null,
      "outputs": []
    },
    {
      "cell_type": "markdown",
      "source": [
        "# **Importing all the Dependencies**"
      ],
      "metadata": {
        "id": "PJwFVOas-7I-"
      }
    },
    {
      "cell_type": "code",
      "source": [
        "import tensorflow\n",
        "from tensorflow import keras\n",
        "from keras.datasets import cifar10\n",
        "from keras.layers import Dense, Conv2D, MaxPooling2D, Flatten, BatchNormalization, Dropout\n",
        "from keras import Sequential\n",
        "from tensorflow.keras.optimizers import Adam\n",
        "from tensorflow.keras.preprocessing.image import ImageDataGenerator"
      ],
      "metadata": {
        "execution": {
          "iopub.status.busy": "2024-07-23T08:49:13.217474Z",
          "iopub.execute_input": "2024-07-23T08:49:13.217839Z",
          "iopub.status.idle": "2024-07-23T08:49:13.225325Z",
          "shell.execute_reply.started": "2024-07-23T08:49:13.217809Z",
          "shell.execute_reply": "2024-07-23T08:49:13.223558Z"
        },
        "trusted": true,
        "id": "KKl50NcA-7JA"
      },
      "execution_count": null,
      "outputs": []
    },
    {
      "cell_type": "markdown",
      "source": [
        "# **Loading Dataset**"
      ],
      "metadata": {
        "id": "fWPDKTuc-7JA"
      }
    },
    {
      "cell_type": "code",
      "source": [
        "(X_train, y_train), (X_test, y_test) = cifar10.load_data()"
      ],
      "metadata": {
        "execution": {
          "iopub.status.busy": "2024-07-23T08:49:14.241182Z",
          "iopub.execute_input": "2024-07-23T08:49:14.242008Z",
          "iopub.status.idle": "2024-07-23T08:49:15.057197Z",
          "shell.execute_reply.started": "2024-07-23T08:49:14.241976Z",
          "shell.execute_reply": "2024-07-23T08:49:15.056247Z"
        },
        "trusted": true,
        "id": "mBEGXuVl-7JB"
      },
      "execution_count": null,
      "outputs": []
    },
    {
      "cell_type": "code",
      "source": [
        "X_train.shape"
      ],
      "metadata": {
        "execution": {
          "iopub.status.busy": "2024-07-23T08:49:15.231342Z",
          "iopub.execute_input": "2024-07-23T08:49:15.231657Z",
          "iopub.status.idle": "2024-07-23T08:49:15.241486Z",
          "shell.execute_reply.started": "2024-07-23T08:49:15.231632Z",
          "shell.execute_reply": "2024-07-23T08:49:15.237494Z"
        },
        "trusted": true,
        "id": "JG7eTviM-7JB",
        "outputId": "1e131d5e-6aea-40c6-d510-f395dc80b56b"
      },
      "execution_count": null,
      "outputs": [
        {
          "execution_count": 29,
          "output_type": "execute_result",
          "data": {
            "text/plain": "(50000, 32, 32, 3)"
          },
          "metadata": {}
        }
      ]
    },
    {
      "cell_type": "markdown",
      "source": [
        "# **Normalizing**"
      ],
      "metadata": {
        "id": "wP76v25O-7JC"
      }
    },
    {
      "cell_type": "code",
      "source": [
        "X_train = X_train.astype('float32') / 255.0\n",
        "X_test = X_test.astype('float32') / 255.0"
      ],
      "metadata": {
        "execution": {
          "iopub.status.busy": "2024-07-23T08:49:17.729542Z",
          "iopub.execute_input": "2024-07-23T08:49:17.730143Z",
          "iopub.status.idle": "2024-07-23T08:49:17.991746Z",
          "shell.execute_reply.started": "2024-07-23T08:49:17.730109Z",
          "shell.execute_reply": "2024-07-23T08:49:17.99063Z"
        },
        "trusted": true,
        "id": "N5JqiNvW-7JD"
      },
      "execution_count": null,
      "outputs": []
    },
    {
      "cell_type": "code",
      "source": [
        "from keras.utils import to_categorical\n",
        "y_train = to_categorical(y_train, 10)\n",
        "y_test = to_categorical(y_test, 10)"
      ],
      "metadata": {
        "execution": {
          "iopub.status.busy": "2024-07-23T08:49:18.33233Z",
          "iopub.execute_input": "2024-07-23T08:49:18.332706Z",
          "iopub.status.idle": "2024-07-23T08:49:18.341049Z",
          "shell.execute_reply.started": "2024-07-23T08:49:18.332678Z",
          "shell.execute_reply": "2024-07-23T08:49:18.340002Z"
        },
        "trusted": true,
        "id": "N3zidnAM-7JD"
      },
      "execution_count": null,
      "outputs": []
    },
    {
      "cell_type": "markdown",
      "source": [
        "# **Data augmentation**"
      ],
      "metadata": {
        "id": "4kiRNqDl-7JD"
      }
    },
    {
      "cell_type": "code",
      "source": [
        "datagen = ImageDataGenerator(\n",
        "    rotation_range=15,      # Rotate the image by up to 15 degrees\n",
        "    width_shift_range=0.1,  # Shift the image horizontally by up to 10% of the width\n",
        "    height_shift_range=0.1, # Shift the image vertically by up to 10% of the height\n",
        "    horizontal_flip=True    # Randomly flip the image horizontally\n",
        ")\n",
        "\n",
        "# Fit the datagen on the training data\n",
        "datagen.fit(X_train)\n",
        "\n",
        "# Example of using the data generator\n",
        "train_generator = datagen.flow(X_train, y_train, batch_size=32)\n",
        "\n",
        "# Check the shapes of the datasets\n",
        "print(\"X_train shape:\", X_train.shape)\n",
        "print(\"y_train shape:\", y_train.shape)\n",
        "print(\"X_test shape:\", X_test.shape)\n",
        "print(\"y_test shape:\", y_test.shape)"
      ],
      "metadata": {
        "execution": {
          "iopub.status.busy": "2024-07-23T08:49:19.401511Z",
          "iopub.execute_input": "2024-07-23T08:49:19.402088Z",
          "iopub.status.idle": "2024-07-23T08:49:19.634922Z",
          "shell.execute_reply.started": "2024-07-23T08:49:19.402057Z",
          "shell.execute_reply": "2024-07-23T08:49:19.633814Z"
        },
        "trusted": true,
        "id": "98gPIzUb-7JE",
        "outputId": "1665e345-b40a-4531-faf5-3e4bc796d186"
      },
      "execution_count": null,
      "outputs": [
        {
          "name": "stdout",
          "text": "X_train shape: (50000, 32, 32, 3)\ny_train shape: (50000, 10)\nX_test shape: (10000, 32, 32, 3)\ny_test shape: (10000, 10)\n",
          "output_type": "stream"
        }
      ]
    },
    {
      "cell_type": "markdown",
      "source": [
        "# **Hyperparameter Tunning**"
      ],
      "metadata": {
        "id": "2BTrpOiN-7JE"
      }
    },
    {
      "cell_type": "code",
      "source": [
        "import keras_tuner as kt\n",
        "from tensorflow.keras.models import Sequential\n",
        "from tensorflow.keras.layers import Conv2D, MaxPooling2D, Flatten, Dense, LeakyReLU\n",
        "import tensorflow as tf\n",
        "\n",
        "def build_model(hp):\n",
        "    model = Sequential()\n",
        "\n",
        "    # Convolutional layers\n",
        "    for i in range(hp.Int(\"num_conv_layers\", 1, 3)):\n",
        "        filters = hp.Int(f\"filters_{i}\", min_value=16, max_value=128, step=16)\n",
        "        kernel_size = hp.Choice(f\"kernel_size_{i}\", values=[3, 5])\n",
        "        activation = hp.Choice(f\"activation_{i}\", values=[\"relu\", \"leakyrelu\"])\n",
        "\n",
        "        if activation == \"leakyrelu\":\n",
        "            model.add(Conv2D(filters=filters, kernel_size=kernel_size, padding='same'))\n",
        "            model.add(LeakyReLU(alpha=0.1))\n",
        "        else:\n",
        "            model.add(Conv2D(filters=filters, kernel_size=kernel_size, activation=activation, padding='same'))\n",
        "\n",
        "        model.add(MaxPooling2D(pool_size=(2, 2)))\n",
        "\n",
        "    model.add(Flatten())\n",
        "\n",
        "    # Fully connected layers\n",
        "    for i in range(hp.Int(\"num_dense_layers\", 1, 3)):\n",
        "        units = hp.Int(f\"units_{i}\", min_value=8, max_value=128, step=8)\n",
        "        activation = hp.Choice(f\"activation_{i}\", [\"relu\", \"leakyrelu\"])\n",
        "\n",
        "        if activation == \"leakyrelu\":\n",
        "            model.add(Dense(units=units))\n",
        "            model.add(LeakyReLU(alpha=0.1))\n",
        "        else:\n",
        "            model.add(Dense(units=units, activation=activation))\n",
        "\n",
        "    # Output layer\n",
        "    model.add(Dense(10, activation='softmax'))\n",
        "\n",
        "    # Compile the model\n",
        "    model.compile(optimizer='adam', loss='categorical_crossentropy', metrics=['accuracy'])\n",
        "\n",
        "    return model\n"
      ],
      "metadata": {
        "execution": {
          "iopub.status.busy": "2024-07-23T07:26:52.461312Z",
          "iopub.execute_input": "2024-07-23T07:26:52.461603Z",
          "iopub.status.idle": "2024-07-23T07:26:53.778004Z",
          "shell.execute_reply.started": "2024-07-23T07:26:52.461577Z",
          "shell.execute_reply": "2024-07-23T07:26:53.777245Z"
        },
        "trusted": true,
        "id": "BasgUKhb-7JE"
      },
      "execution_count": null,
      "outputs": []
    },
    {
      "cell_type": "code",
      "source": [
        "tuner = kt.RandomSearch(\n",
        "    build_model,\n",
        "    objective = 'val_accuracy',\n",
        "    max_trials=5,\n",
        "    directory = \"my_dir\",\n",
        "    project_name=\"tuner_CNN\"\n",
        ")"
      ],
      "metadata": {
        "execution": {
          "iopub.status.busy": "2024-07-23T07:26:53.780355Z",
          "iopub.execute_input": "2024-07-23T07:26:53.780662Z",
          "iopub.status.idle": "2024-07-23T07:26:54.443136Z",
          "shell.execute_reply.started": "2024-07-23T07:26:53.780636Z",
          "shell.execute_reply": "2024-07-23T07:26:54.442145Z"
        },
        "trusted": true,
        "id": "B2Wrsa4F-7JE"
      },
      "execution_count": null,
      "outputs": []
    },
    {
      "cell_type": "code",
      "source": [
        "tuner.search(\n",
        "    train_generator, epochs=5, validation_data=(X_test, y_test)\n",
        ")"
      ],
      "metadata": {
        "execution": {
          "iopub.status.busy": "2024-07-23T07:26:54.444337Z",
          "iopub.execute_input": "2024-07-23T07:26:54.444692Z",
          "iopub.status.idle": "2024-07-23T07:41:03.978086Z",
          "shell.execute_reply.started": "2024-07-23T07:26:54.444662Z",
          "shell.execute_reply": "2024-07-23T07:41:03.977191Z"
        },
        "trusted": true,
        "id": "Tmq83q3K-7JF",
        "outputId": "b395267b-91e8-4e93-91c5-072722f9323b"
      },
      "execution_count": null,
      "outputs": [
        {
          "name": "stdout",
          "text": "Trial 5 Complete [00h 02m 50s]\nval_accuracy: 0.6966999769210815\n\nBest val_accuracy So Far: 0.6966999769210815\nTotal elapsed time: 00h 14m 10s\n",
          "output_type": "stream"
        }
      ]
    },
    {
      "cell_type": "code",
      "source": [
        "best_hps = tuner.get_best_hyperparameters(num_trials=1)[0]\n",
        "print(best_hps.values)"
      ],
      "metadata": {
        "execution": {
          "iopub.status.busy": "2024-07-23T07:41:24.01559Z",
          "iopub.execute_input": "2024-07-23T07:41:24.015946Z",
          "iopub.status.idle": "2024-07-23T07:41:24.021337Z",
          "shell.execute_reply.started": "2024-07-23T07:41:24.015918Z",
          "shell.execute_reply": "2024-07-23T07:41:24.020276Z"
        },
        "trusted": true,
        "id": "sOiTUVcr-7JF",
        "outputId": "d91126fb-b24e-494f-f9c5-40d267eafd75"
      },
      "execution_count": null,
      "outputs": [
        {
          "name": "stdout",
          "text": "{'num_conv_layers': 2, 'filters_0': 64, 'kernel_size_0': 5, 'activation_0': 'relu', 'num_dense_layers': 2, 'units_0': 72, 'filters_1': 112, 'kernel_size_1': 5, 'activation_1': 'leakyrelu', 'filters_2': 128, 'kernel_size_2': 3, 'activation_2': 'relu', 'units_1': 40}\n",
          "output_type": "stream"
        }
      ]
    },
    {
      "cell_type": "markdown",
      "source": [
        "# **Final Model**"
      ],
      "metadata": {
        "id": "1W2EyRHh-7JF"
      }
    },
    {
      "cell_type": "code",
      "source": [
        "model = Sequential()\n",
        "model.add(Conv2D(filters=64, kernel_size=5, activation='relu', padding='same', input_shape=(32, 32, 3)))\n",
        "model.add(MaxPooling2D(pool_size=(2, 2)))\n",
        "\n",
        "model.add(Conv2D(filters=112, kernel_size=5, padding='same'))\n",
        "model.add(LeakyReLU(alpha=0.1))\n",
        "model.add(MaxPooling2D(pool_size=(2, 2)))\n",
        "\n",
        "model.add(Flatten())\n",
        "\n",
        "    # First Dense Layer\n",
        "model.add(Dense(128, activation='relu'))\n",
        "model.add(Dense(72, activation='relu'))\n",
        "model.add(Dense(40))\n",
        "model.add(LeakyReLU(alpha=0.1))\n",
        "\n",
        "model.add(Dense(10, activation='softmax'))"
      ],
      "metadata": {
        "execution": {
          "iopub.status.busy": "2024-07-23T08:49:27.704754Z",
          "iopub.execute_input": "2024-07-23T08:49:27.705584Z",
          "iopub.status.idle": "2024-07-23T08:49:27.830434Z",
          "shell.execute_reply.started": "2024-07-23T08:49:27.705543Z",
          "shell.execute_reply": "2024-07-23T08:49:27.829543Z"
        },
        "trusted": true,
        "id": "tekQggN1-7JF"
      },
      "execution_count": null,
      "outputs": []
    },
    {
      "cell_type": "code",
      "source": [
        "model.compile(optimizer=Adam(),\n",
        "              loss='categorical_crossentropy',\n",
        "              metrics=['accuracy'])\n",
        "\n",
        "model.summary()"
      ],
      "metadata": {
        "execution": {
          "iopub.status.busy": "2024-07-23T08:49:30.002095Z",
          "iopub.execute_input": "2024-07-23T08:49:30.002934Z",
          "iopub.status.idle": "2024-07-23T08:49:30.041393Z",
          "shell.execute_reply.started": "2024-07-23T08:49:30.002895Z",
          "shell.execute_reply": "2024-07-23T08:49:30.04027Z"
        },
        "trusted": true,
        "id": "LmimFvvq-7JG",
        "outputId": "000506bc-aa6e-4a3d-d5c1-6eb0b8413661"
      },
      "execution_count": null,
      "outputs": [
        {
          "output_type": "display_data",
          "data": {
            "text/plain": "\u001b[1mModel: \"sequential_4\"\u001b[0m\n",
            "text/html": "<pre style=\"white-space:pre;overflow-x:auto;line-height:normal;font-family:Menlo,'DejaVu Sans Mono',consolas,'Courier New',monospace\"><span style=\"font-weight: bold\">Model: \"sequential_4\"</span>\n</pre>\n"
          },
          "metadata": {}
        },
        {
          "output_type": "display_data",
          "data": {
            "text/plain": "┏━━━━━━━━━━━━━━━━━━━━━━━━━━━━━━━━━┳━━━━━━━━━━━━━━━━━━━━━━━━┳━━━━━━━━━━━━━━━┓\n┃\u001b[1m \u001b[0m\u001b[1mLayer (type)                   \u001b[0m\u001b[1m \u001b[0m┃\u001b[1m \u001b[0m\u001b[1mOutput Shape          \u001b[0m\u001b[1m \u001b[0m┃\u001b[1m \u001b[0m\u001b[1m      Param #\u001b[0m\u001b[1m \u001b[0m┃\n┡━━━━━━━━━━━━━━━━━━━━━━━━━━━━━━━━━╇━━━━━━━━━━━━━━━━━━━━━━━━╇━━━━━━━━━━━━━━━┩\n│ conv2d_8 (\u001b[38;5;33mConv2D\u001b[0m)               │ (\u001b[38;5;45mNone\u001b[0m, \u001b[38;5;34m32\u001b[0m, \u001b[38;5;34m32\u001b[0m, \u001b[38;5;34m64\u001b[0m)     │         \u001b[38;5;34m4,864\u001b[0m │\n├─────────────────────────────────┼────────────────────────┼───────────────┤\n│ max_pooling2d_8 (\u001b[38;5;33mMaxPooling2D\u001b[0m)  │ (\u001b[38;5;45mNone\u001b[0m, \u001b[38;5;34m16\u001b[0m, \u001b[38;5;34m16\u001b[0m, \u001b[38;5;34m64\u001b[0m)     │             \u001b[38;5;34m0\u001b[0m │\n├─────────────────────────────────┼────────────────────────┼───────────────┤\n│ conv2d_9 (\u001b[38;5;33mConv2D\u001b[0m)               │ (\u001b[38;5;45mNone\u001b[0m, \u001b[38;5;34m16\u001b[0m, \u001b[38;5;34m16\u001b[0m, \u001b[38;5;34m112\u001b[0m)    │       \u001b[38;5;34m179,312\u001b[0m │\n├─────────────────────────────────┼────────────────────────┼───────────────┤\n│ leaky_re_lu_8 (\u001b[38;5;33mLeakyReLU\u001b[0m)       │ (\u001b[38;5;45mNone\u001b[0m, \u001b[38;5;34m16\u001b[0m, \u001b[38;5;34m16\u001b[0m, \u001b[38;5;34m112\u001b[0m)    │             \u001b[38;5;34m0\u001b[0m │\n├─────────────────────────────────┼────────────────────────┼───────────────┤\n│ max_pooling2d_9 (\u001b[38;5;33mMaxPooling2D\u001b[0m)  │ (\u001b[38;5;45mNone\u001b[0m, \u001b[38;5;34m8\u001b[0m, \u001b[38;5;34m8\u001b[0m, \u001b[38;5;34m112\u001b[0m)      │             \u001b[38;5;34m0\u001b[0m │\n├─────────────────────────────────┼────────────────────────┼───────────────┤\n│ flatten_4 (\u001b[38;5;33mFlatten\u001b[0m)             │ (\u001b[38;5;45mNone\u001b[0m, \u001b[38;5;34m7168\u001b[0m)           │             \u001b[38;5;34m0\u001b[0m │\n├─────────────────────────────────┼────────────────────────┼───────────────┤\n│ dense_14 (\u001b[38;5;33mDense\u001b[0m)                │ (\u001b[38;5;45mNone\u001b[0m, \u001b[38;5;34m128\u001b[0m)            │       \u001b[38;5;34m917,632\u001b[0m │\n├─────────────────────────────────┼────────────────────────┼───────────────┤\n│ dense_15 (\u001b[38;5;33mDense\u001b[0m)                │ (\u001b[38;5;45mNone\u001b[0m, \u001b[38;5;34m72\u001b[0m)             │         \u001b[38;5;34m9,288\u001b[0m │\n├─────────────────────────────────┼────────────────────────┼───────────────┤\n│ dense_16 (\u001b[38;5;33mDense\u001b[0m)                │ (\u001b[38;5;45mNone\u001b[0m, \u001b[38;5;34m40\u001b[0m)             │         \u001b[38;5;34m2,920\u001b[0m │\n├─────────────────────────────────┼────────────────────────┼───────────────┤\n│ leaky_re_lu_9 (\u001b[38;5;33mLeakyReLU\u001b[0m)       │ (\u001b[38;5;45mNone\u001b[0m, \u001b[38;5;34m40\u001b[0m)             │             \u001b[38;5;34m0\u001b[0m │\n├─────────────────────────────────┼────────────────────────┼───────────────┤\n│ dense_17 (\u001b[38;5;33mDense\u001b[0m)                │ (\u001b[38;5;45mNone\u001b[0m, \u001b[38;5;34m10\u001b[0m)             │           \u001b[38;5;34m410\u001b[0m │\n└─────────────────────────────────┴────────────────────────┴───────────────┘\n",
            "text/html": "<pre style=\"white-space:pre;overflow-x:auto;line-height:normal;font-family:Menlo,'DejaVu Sans Mono',consolas,'Courier New',monospace\">┏━━━━━━━━━━━━━━━━━━━━━━━━━━━━━━━━━┳━━━━━━━━━━━━━━━━━━━━━━━━┳━━━━━━━━━━━━━━━┓\n┃<span style=\"font-weight: bold\"> Layer (type)                    </span>┃<span style=\"font-weight: bold\"> Output Shape           </span>┃<span style=\"font-weight: bold\">       Param # </span>┃\n┡━━━━━━━━━━━━━━━━━━━━━━━━━━━━━━━━━╇━━━━━━━━━━━━━━━━━━━━━━━━╇━━━━━━━━━━━━━━━┩\n│ conv2d_8 (<span style=\"color: #0087ff; text-decoration-color: #0087ff\">Conv2D</span>)               │ (<span style=\"color: #00d7ff; text-decoration-color: #00d7ff\">None</span>, <span style=\"color: #00af00; text-decoration-color: #00af00\">32</span>, <span style=\"color: #00af00; text-decoration-color: #00af00\">32</span>, <span style=\"color: #00af00; text-decoration-color: #00af00\">64</span>)     │         <span style=\"color: #00af00; text-decoration-color: #00af00\">4,864</span> │\n├─────────────────────────────────┼────────────────────────┼───────────────┤\n│ max_pooling2d_8 (<span style=\"color: #0087ff; text-decoration-color: #0087ff\">MaxPooling2D</span>)  │ (<span style=\"color: #00d7ff; text-decoration-color: #00d7ff\">None</span>, <span style=\"color: #00af00; text-decoration-color: #00af00\">16</span>, <span style=\"color: #00af00; text-decoration-color: #00af00\">16</span>, <span style=\"color: #00af00; text-decoration-color: #00af00\">64</span>)     │             <span style=\"color: #00af00; text-decoration-color: #00af00\">0</span> │\n├─────────────────────────────────┼────────────────────────┼───────────────┤\n│ conv2d_9 (<span style=\"color: #0087ff; text-decoration-color: #0087ff\">Conv2D</span>)               │ (<span style=\"color: #00d7ff; text-decoration-color: #00d7ff\">None</span>, <span style=\"color: #00af00; text-decoration-color: #00af00\">16</span>, <span style=\"color: #00af00; text-decoration-color: #00af00\">16</span>, <span style=\"color: #00af00; text-decoration-color: #00af00\">112</span>)    │       <span style=\"color: #00af00; text-decoration-color: #00af00\">179,312</span> │\n├─────────────────────────────────┼────────────────────────┼───────────────┤\n│ leaky_re_lu_8 (<span style=\"color: #0087ff; text-decoration-color: #0087ff\">LeakyReLU</span>)       │ (<span style=\"color: #00d7ff; text-decoration-color: #00d7ff\">None</span>, <span style=\"color: #00af00; text-decoration-color: #00af00\">16</span>, <span style=\"color: #00af00; text-decoration-color: #00af00\">16</span>, <span style=\"color: #00af00; text-decoration-color: #00af00\">112</span>)    │             <span style=\"color: #00af00; text-decoration-color: #00af00\">0</span> │\n├─────────────────────────────────┼────────────────────────┼───────────────┤\n│ max_pooling2d_9 (<span style=\"color: #0087ff; text-decoration-color: #0087ff\">MaxPooling2D</span>)  │ (<span style=\"color: #00d7ff; text-decoration-color: #00d7ff\">None</span>, <span style=\"color: #00af00; text-decoration-color: #00af00\">8</span>, <span style=\"color: #00af00; text-decoration-color: #00af00\">8</span>, <span style=\"color: #00af00; text-decoration-color: #00af00\">112</span>)      │             <span style=\"color: #00af00; text-decoration-color: #00af00\">0</span> │\n├─────────────────────────────────┼────────────────────────┼───────────────┤\n│ flatten_4 (<span style=\"color: #0087ff; text-decoration-color: #0087ff\">Flatten</span>)             │ (<span style=\"color: #00d7ff; text-decoration-color: #00d7ff\">None</span>, <span style=\"color: #00af00; text-decoration-color: #00af00\">7168</span>)           │             <span style=\"color: #00af00; text-decoration-color: #00af00\">0</span> │\n├─────────────────────────────────┼────────────────────────┼───────────────┤\n│ dense_14 (<span style=\"color: #0087ff; text-decoration-color: #0087ff\">Dense</span>)                │ (<span style=\"color: #00d7ff; text-decoration-color: #00d7ff\">None</span>, <span style=\"color: #00af00; text-decoration-color: #00af00\">128</span>)            │       <span style=\"color: #00af00; text-decoration-color: #00af00\">917,632</span> │\n├─────────────────────────────────┼────────────────────────┼───────────────┤\n│ dense_15 (<span style=\"color: #0087ff; text-decoration-color: #0087ff\">Dense</span>)                │ (<span style=\"color: #00d7ff; text-decoration-color: #00d7ff\">None</span>, <span style=\"color: #00af00; text-decoration-color: #00af00\">72</span>)             │         <span style=\"color: #00af00; text-decoration-color: #00af00\">9,288</span> │\n├─────────────────────────────────┼────────────────────────┼───────────────┤\n│ dense_16 (<span style=\"color: #0087ff; text-decoration-color: #0087ff\">Dense</span>)                │ (<span style=\"color: #00d7ff; text-decoration-color: #00d7ff\">None</span>, <span style=\"color: #00af00; text-decoration-color: #00af00\">40</span>)             │         <span style=\"color: #00af00; text-decoration-color: #00af00\">2,920</span> │\n├─────────────────────────────────┼────────────────────────┼───────────────┤\n│ leaky_re_lu_9 (<span style=\"color: #0087ff; text-decoration-color: #0087ff\">LeakyReLU</span>)       │ (<span style=\"color: #00d7ff; text-decoration-color: #00d7ff\">None</span>, <span style=\"color: #00af00; text-decoration-color: #00af00\">40</span>)             │             <span style=\"color: #00af00; text-decoration-color: #00af00\">0</span> │\n├─────────────────────────────────┼────────────────────────┼───────────────┤\n│ dense_17 (<span style=\"color: #0087ff; text-decoration-color: #0087ff\">Dense</span>)                │ (<span style=\"color: #00d7ff; text-decoration-color: #00d7ff\">None</span>, <span style=\"color: #00af00; text-decoration-color: #00af00\">10</span>)             │           <span style=\"color: #00af00; text-decoration-color: #00af00\">410</span> │\n└─────────────────────────────────┴────────────────────────┴───────────────┘\n</pre>\n"
          },
          "metadata": {}
        },
        {
          "output_type": "display_data",
          "data": {
            "text/plain": "\u001b[1m Total params: \u001b[0m\u001b[38;5;34m1,114,426\u001b[0m (4.25 MB)\n",
            "text/html": "<pre style=\"white-space:pre;overflow-x:auto;line-height:normal;font-family:Menlo,'DejaVu Sans Mono',consolas,'Courier New',monospace\"><span style=\"font-weight: bold\"> Total params: </span><span style=\"color: #00af00; text-decoration-color: #00af00\">1,114,426</span> (4.25 MB)\n</pre>\n"
          },
          "metadata": {}
        },
        {
          "output_type": "display_data",
          "data": {
            "text/plain": "\u001b[1m Trainable params: \u001b[0m\u001b[38;5;34m1,114,426\u001b[0m (4.25 MB)\n",
            "text/html": "<pre style=\"white-space:pre;overflow-x:auto;line-height:normal;font-family:Menlo,'DejaVu Sans Mono',consolas,'Courier New',monospace\"><span style=\"font-weight: bold\"> Trainable params: </span><span style=\"color: #00af00; text-decoration-color: #00af00\">1,114,426</span> (4.25 MB)\n</pre>\n"
          },
          "metadata": {}
        },
        {
          "output_type": "display_data",
          "data": {
            "text/plain": "\u001b[1m Non-trainable params: \u001b[0m\u001b[38;5;34m0\u001b[0m (0.00 B)\n",
            "text/html": "<pre style=\"white-space:pre;overflow-x:auto;line-height:normal;font-family:Menlo,'DejaVu Sans Mono',consolas,'Courier New',monospace\"><span style=\"font-weight: bold\"> Non-trainable params: </span><span style=\"color: #00af00; text-decoration-color: #00af00\">0</span> (0.00 B)\n</pre>\n"
          },
          "metadata": {}
        }
      ]
    },
    {
      "cell_type": "code",
      "source": [
        "\n",
        "from tensorflow.keras.callbacks import EarlyStopping\n",
        "callback = EarlyStopping(\n",
        "    monitor = \"val_loss\",\n",
        "    min_delta = 0.00001,\n",
        "    patience = 15,\n",
        "    verbose = 1,\n",
        "    mode='auto',\n",
        "    baseline = None,\n",
        "    restore_best_weights = None\n",
        ")"
      ],
      "metadata": {
        "execution": {
          "iopub.status.busy": "2024-07-23T08:50:27.164687Z",
          "iopub.execute_input": "2024-07-23T08:50:27.165525Z",
          "iopub.status.idle": "2024-07-23T08:50:27.172762Z",
          "shell.execute_reply.started": "2024-07-23T08:50:27.165494Z",
          "shell.execute_reply": "2024-07-23T08:50:27.171692Z"
        },
        "trusted": true,
        "id": "7z9dY1RA-7JG"
      },
      "execution_count": null,
      "outputs": []
    },
    {
      "cell_type": "code",
      "source": [
        "history= model.fit(train_generator, epochs=50,callbacks=callback, validation_data=(X_test, y_test))"
      ],
      "metadata": {
        "execution": {
          "iopub.status.busy": "2024-07-23T08:50:39.62703Z",
          "iopub.execute_input": "2024-07-23T08:50:39.627393Z",
          "iopub.status.idle": "2024-07-23T09:20:28.667072Z",
          "shell.execute_reply.started": "2024-07-23T08:50:39.627362Z",
          "shell.execute_reply": "2024-07-23T09:20:28.666048Z"
        },
        "trusted": true,
        "id": "3-AlfP3Z-7JG",
        "outputId": "94538013-e817-4f93-dfd0-7332eaacc05f"
      },
      "execution_count": null,
      "outputs": [
        {
          "name": "stdout",
          "text": "Epoch 1/50\n\u001b[1m1563/1563\u001b[0m \u001b[32m━━━━━━━━━━━━━━━━━━━━\u001b[0m\u001b[37m\u001b[0m \u001b[1m44s\u001b[0m 26ms/step - accuracy: 0.3336 - loss: 1.8062 - val_accuracy: 0.5359 - val_loss: 1.2749\nEpoch 2/50\n\u001b[1m1563/1563\u001b[0m \u001b[32m━━━━━━━━━━━━━━━━━━━━\u001b[0m\u001b[37m\u001b[0m \u001b[1m74s\u001b[0m 22ms/step - accuracy: 0.5401 - loss: 1.2854 - val_accuracy: 0.6038 - val_loss: 1.0932\nEpoch 3/50\n\u001b[1m1563/1563\u001b[0m \u001b[32m━━━━━━━━━━━━━━━━━━━━\u001b[0m\u001b[37m\u001b[0m \u001b[1m41s\u001b[0m 22ms/step - accuracy: 0.5990 - loss: 1.1288 - val_accuracy: 0.6498 - val_loss: 1.0025\nEpoch 4/50\n\u001b[1m1563/1563\u001b[0m \u001b[32m━━━━━━━━━━━━━━━━━━━━\u001b[0m\u001b[37m\u001b[0m \u001b[1m41s\u001b[0m 22ms/step - accuracy: 0.6336 - loss: 1.0301 - val_accuracy: 0.6726 - val_loss: 0.9547\nEpoch 5/50\n\u001b[1m1563/1563\u001b[0m \u001b[32m━━━━━━━━━━━━━━━━━━━━\u001b[0m\u001b[37m\u001b[0m \u001b[1m34s\u001b[0m 21ms/step - accuracy: 0.6575 - loss: 0.9766 - val_accuracy: 0.6728 - val_loss: 0.9357\nEpoch 6/50\n\u001b[1m1563/1563\u001b[0m \u001b[32m━━━━━━━━━━━━━━━━━━━━\u001b[0m\u001b[37m\u001b[0m \u001b[1m34s\u001b[0m 21ms/step - accuracy: 0.6809 - loss: 0.9128 - val_accuracy: 0.7077 - val_loss: 0.8344\nEpoch 7/50\n\u001b[1m1563/1563\u001b[0m \u001b[32m━━━━━━━━━━━━━━━━━━━━\u001b[0m\u001b[37m\u001b[0m \u001b[1m34s\u001b[0m 22ms/step - accuracy: 0.6935 - loss: 0.8720 - val_accuracy: 0.7168 - val_loss: 0.8104\nEpoch 8/50\n\u001b[1m1563/1563\u001b[0m \u001b[32m━━━━━━━━━━━━━━━━━━━━\u001b[0m\u001b[37m\u001b[0m \u001b[1m34s\u001b[0m 22ms/step - accuracy: 0.7087 - loss: 0.8372 - val_accuracy: 0.7354 - val_loss: 0.7791\nEpoch 9/50\n\u001b[1m1563/1563\u001b[0m \u001b[32m━━━━━━━━━━━━━━━━━━━━\u001b[0m\u001b[37m\u001b[0m \u001b[1m33s\u001b[0m 21ms/step - accuracy: 0.7149 - loss: 0.8167 - val_accuracy: 0.7228 - val_loss: 0.7976\nEpoch 10/50\n\u001b[1m1563/1563\u001b[0m \u001b[32m━━━━━━━━━━━━━━━━━━━━\u001b[0m\u001b[37m\u001b[0m \u001b[1m33s\u001b[0m 21ms/step - accuracy: 0.7268 - loss: 0.7825 - val_accuracy: 0.7522 - val_loss: 0.7165\nEpoch 11/50\n\u001b[1m1563/1563\u001b[0m \u001b[32m━━━━━━━━━━━━━━━━━━━━\u001b[0m\u001b[37m\u001b[0m \u001b[1m34s\u001b[0m 21ms/step - accuracy: 0.7385 - loss: 0.7548 - val_accuracy: 0.7499 - val_loss: 0.7426\nEpoch 12/50\n\u001b[1m1563/1563\u001b[0m \u001b[32m━━━━━━━━━━━━━━━━━━━━\u001b[0m\u001b[37m\u001b[0m \u001b[1m36s\u001b[0m 23ms/step - accuracy: 0.7433 - loss: 0.7363 - val_accuracy: 0.7476 - val_loss: 0.7472\nEpoch 13/50\n\u001b[1m1563/1563\u001b[0m \u001b[32m━━━━━━━━━━━━━━━━━━━━\u001b[0m\u001b[37m\u001b[0m \u001b[1m36s\u001b[0m 23ms/step - accuracy: 0.7505 - loss: 0.7117 - val_accuracy: 0.7626 - val_loss: 0.7086\nEpoch 14/50\n\u001b[1m1563/1563\u001b[0m \u001b[32m━━━━━━━━━━━━━━━━━━━━\u001b[0m\u001b[37m\u001b[0m \u001b[1m36s\u001b[0m 23ms/step - accuracy: 0.7533 - loss: 0.7016 - val_accuracy: 0.7689 - val_loss: 0.6930\nEpoch 15/50\n\u001b[1m1563/1563\u001b[0m \u001b[32m━━━━━━━━━━━━━━━━━━━━\u001b[0m\u001b[37m\u001b[0m \u001b[1m34s\u001b[0m 22ms/step - accuracy: 0.7641 - loss: 0.6726 - val_accuracy: 0.7588 - val_loss: 0.7196\nEpoch 16/50\n\u001b[1m1563/1563\u001b[0m \u001b[32m━━━━━━━━━━━━━━━━━━━━\u001b[0m\u001b[37m\u001b[0m \u001b[1m35s\u001b[0m 22ms/step - accuracy: 0.7681 - loss: 0.6707 - val_accuracy: 0.7637 - val_loss: 0.7233\nEpoch 17/50\n\u001b[1m1563/1563\u001b[0m \u001b[32m━━━━━━━━━━━━━━━━━━━━\u001b[0m\u001b[37m\u001b[0m \u001b[1m34s\u001b[0m 21ms/step - accuracy: 0.7735 - loss: 0.6553 - val_accuracy: 0.7617 - val_loss: 0.7035\nEpoch 18/50\n\u001b[1m1563/1563\u001b[0m \u001b[32m━━━━━━━━━━━━━━━━━━━━\u001b[0m\u001b[37m\u001b[0m \u001b[1m34s\u001b[0m 21ms/step - accuracy: 0.7701 - loss: 0.6544 - val_accuracy: 0.7649 - val_loss: 0.7180\nEpoch 19/50\n\u001b[1m1563/1563\u001b[0m \u001b[32m━━━━━━━━━━━━━━━━━━━━\u001b[0m\u001b[37m\u001b[0m \u001b[1m33s\u001b[0m 21ms/step - accuracy: 0.7784 - loss: 0.6355 - val_accuracy: 0.7684 - val_loss: 0.6858\nEpoch 20/50\n\u001b[1m1563/1563\u001b[0m \u001b[32m━━━━━━━━━━━━━━━━━━━━\u001b[0m\u001b[37m\u001b[0m \u001b[1m33s\u001b[0m 21ms/step - accuracy: 0.7858 - loss: 0.6196 - val_accuracy: 0.7719 - val_loss: 0.6754\nEpoch 21/50\n\u001b[1m1563/1563\u001b[0m \u001b[32m━━━━━━━━━━━━━━━━━━━━\u001b[0m\u001b[37m\u001b[0m \u001b[1m33s\u001b[0m 21ms/step - accuracy: 0.7858 - loss: 0.6112 - val_accuracy: 0.7844 - val_loss: 0.6675\nEpoch 22/50\n\u001b[1m1563/1563\u001b[0m \u001b[32m━━━━━━━━━━━━━━━━━━━━\u001b[0m\u001b[37m\u001b[0m \u001b[1m33s\u001b[0m 21ms/step - accuracy: 0.7945 - loss: 0.5882 - val_accuracy: 0.7776 - val_loss: 0.6968\nEpoch 23/50\n\u001b[1m1563/1563\u001b[0m \u001b[32m━━━━━━━━━━━━━━━━━━━━\u001b[0m\u001b[37m\u001b[0m \u001b[1m33s\u001b[0m 21ms/step - accuracy: 0.7937 - loss: 0.5956 - val_accuracy: 0.7776 - val_loss: 0.6822\nEpoch 24/50\n\u001b[1m1563/1563\u001b[0m \u001b[32m━━━━━━━━━━━━━━━━━━━━\u001b[0m\u001b[37m\u001b[0m \u001b[1m33s\u001b[0m 21ms/step - accuracy: 0.7965 - loss: 0.5835 - val_accuracy: 0.7764 - val_loss: 0.6950\nEpoch 25/50\n\u001b[1m1563/1563\u001b[0m \u001b[32m━━━━━━━━━━━━━━━━━━━━\u001b[0m\u001b[37m\u001b[0m \u001b[1m34s\u001b[0m 22ms/step - accuracy: 0.8042 - loss: 0.5659 - val_accuracy: 0.7889 - val_loss: 0.6450\nEpoch 26/50\n\u001b[1m1563/1563\u001b[0m \u001b[32m━━━━━━━━━━━━━━━━━━━━\u001b[0m\u001b[37m\u001b[0m \u001b[1m35s\u001b[0m 22ms/step - accuracy: 0.8085 - loss: 0.5548 - val_accuracy: 0.7607 - val_loss: 0.7323\nEpoch 27/50\n\u001b[1m1563/1563\u001b[0m \u001b[32m━━━━━━━━━━━━━━━━━━━━\u001b[0m\u001b[37m\u001b[0m \u001b[1m35s\u001b[0m 22ms/step - accuracy: 0.8082 - loss: 0.5465 - val_accuracy: 0.7919 - val_loss: 0.6534\nEpoch 28/50\n\u001b[1m1563/1563\u001b[0m \u001b[32m━━━━━━━━━━━━━━━━━━━━\u001b[0m\u001b[37m\u001b[0m \u001b[1m35s\u001b[0m 22ms/step - accuracy: 0.8154 - loss: 0.5344 - val_accuracy: 0.7810 - val_loss: 0.6734\nEpoch 29/50\n\u001b[1m1563/1563\u001b[0m \u001b[32m━━━━━━━━━━━━━━━━━━━━\u001b[0m\u001b[37m\u001b[0m \u001b[1m34s\u001b[0m 22ms/step - accuracy: 0.8134 - loss: 0.5373 - val_accuracy: 0.7807 - val_loss: 0.6711\nEpoch 30/50\n\u001b[1m1563/1563\u001b[0m \u001b[32m━━━━━━━━━━━━━━━━━━━━\u001b[0m\u001b[37m\u001b[0m \u001b[1m42s\u001b[0m 22ms/step - accuracy: 0.8170 - loss: 0.5224 - val_accuracy: 0.7959 - val_loss: 0.6271\nEpoch 31/50\n\u001b[1m1563/1563\u001b[0m \u001b[32m━━━━━━━━━━━━━━━━━━━━\u001b[0m\u001b[37m\u001b[0m \u001b[1m35s\u001b[0m 22ms/step - accuracy: 0.8215 - loss: 0.5129 - val_accuracy: 0.7811 - val_loss: 0.6698\nEpoch 32/50\n\u001b[1m1563/1563\u001b[0m \u001b[32m━━━━━━━━━━━━━━━━━━━━\u001b[0m\u001b[37m\u001b[0m \u001b[1m42s\u001b[0m 23ms/step - accuracy: 0.8203 - loss: 0.5134 - val_accuracy: 0.7863 - val_loss: 0.6616\nEpoch 33/50\n\u001b[1m1563/1563\u001b[0m \u001b[32m━━━━━━━━━━━━━━━━━━━━\u001b[0m\u001b[37m\u001b[0m \u001b[1m35s\u001b[0m 22ms/step - accuracy: 0.8191 - loss: 0.5126 - val_accuracy: 0.7847 - val_loss: 0.6665\nEpoch 34/50\n\u001b[1m1563/1563\u001b[0m \u001b[32m━━━━━━━━━━━━━━━━━━━━\u001b[0m\u001b[37m\u001b[0m \u001b[1m33s\u001b[0m 21ms/step - accuracy: 0.8276 - loss: 0.4974 - val_accuracy: 0.7984 - val_loss: 0.6269\nEpoch 35/50\n\u001b[1m1563/1563\u001b[0m \u001b[32m━━━━━━━━━━━━━━━━━━━━\u001b[0m\u001b[37m\u001b[0m \u001b[1m33s\u001b[0m 21ms/step - accuracy: 0.8294 - loss: 0.4992 - val_accuracy: 0.7886 - val_loss: 0.6668\nEpoch 36/50\n\u001b[1m1563/1563\u001b[0m \u001b[32m━━━━━━━━━━━━━━━━━━━━\u001b[0m\u001b[37m\u001b[0m \u001b[1m34s\u001b[0m 22ms/step - accuracy: 0.8342 - loss: 0.4845 - val_accuracy: 0.7983 - val_loss: 0.6402\nEpoch 37/50\n\u001b[1m1563/1563\u001b[0m \u001b[32m━━━━━━━━━━━━━━━━━━━━\u001b[0m\u001b[37m\u001b[0m \u001b[1m34s\u001b[0m 22ms/step - accuracy: 0.8315 - loss: 0.4849 - val_accuracy: 0.7965 - val_loss: 0.6656\nEpoch 38/50\n\u001b[1m1563/1563\u001b[0m \u001b[32m━━━━━━━━━━━━━━━━━━━━\u001b[0m\u001b[37m\u001b[0m \u001b[1m34s\u001b[0m 21ms/step - accuracy: 0.8320 - loss: 0.4829 - val_accuracy: 0.8049 - val_loss: 0.6195\nEpoch 39/50\n\u001b[1m1563/1563\u001b[0m \u001b[32m━━━━━━━━━━━━━━━━━━━━\u001b[0m\u001b[37m\u001b[0m \u001b[1m35s\u001b[0m 22ms/step - accuracy: 0.8334 - loss: 0.4743 - val_accuracy: 0.7946 - val_loss: 0.6528\nEpoch 40/50\n\u001b[1m1563/1563\u001b[0m \u001b[32m━━━━━━━━━━━━━━━━━━━━\u001b[0m\u001b[37m\u001b[0m \u001b[1m33s\u001b[0m 21ms/step - accuracy: 0.8360 - loss: 0.4743 - val_accuracy: 0.8002 - val_loss: 0.6170\nEpoch 41/50\n\u001b[1m1563/1563\u001b[0m \u001b[32m━━━━━━━━━━━━━━━━━━━━\u001b[0m\u001b[37m\u001b[0m \u001b[1m33s\u001b[0m 21ms/step - accuracy: 0.8400 - loss: 0.4663 - val_accuracy: 0.8017 - val_loss: 0.6295\nEpoch 42/50\n\u001b[1m1563/1563\u001b[0m \u001b[32m━━━━━━━━━━━━━━━━━━━━\u001b[0m\u001b[37m\u001b[0m \u001b[1m34s\u001b[0m 22ms/step - accuracy: 0.8476 - loss: 0.4458 - val_accuracy: 0.8021 - val_loss: 0.6434\nEpoch 45/50\n\u001b[1m1563/1563\u001b[0m \u001b[32m━━━━━━━━━━━━━━━━━━━━\u001b[0m\u001b[37m\u001b[0m \u001b[1m36s\u001b[0m 23ms/step - accuracy: 0.8534 - loss: 0.4266 - val_accuracy: 0.8051 - val_loss: 0.6148\nEpoch 47/50\n\u001b[1m1563/1563\u001b[0m \u001b[32m━━━━━━━━━━━━━━━━━━━━\u001b[0m\u001b[37m\u001b[0m \u001b[1m35s\u001b[0m 22ms/step - accuracy: 0.8501 - loss: 0.4343 - val_accuracy: 0.7882 - val_loss: 0.6991\nEpoch 48/50\n\u001b[1m1563/1563\u001b[0m \u001b[32m━━━━━━━━━━━━━━━━━━━━\u001b[0m\u001b[37m\u001b[0m \u001b[1m37s\u001b[0m 23ms/step - accuracy: 0.8532 - loss: 0.4302 - val_accuracy: 0.7937 - val_loss: 0.6883\nEpoch 49/50\n\u001b[1m1563/1563\u001b[0m \u001b[32m━━━━━━━━━━━━━━━━━━━━\u001b[0m\u001b[37m\u001b[0m \u001b[1m35s\u001b[0m 22ms/step - accuracy: 0.8533 - loss: 0.4255 - val_accuracy: 0.8058 - val_loss: 0.6253\n",
          "output_type": "stream"
        }
      ]
    },
    {
      "cell_type": "code",
      "source": [
        "# Save the model\n",
        "model.save(\"cnn_model_optimized.h5\")"
      ],
      "metadata": {
        "execution": {
          "iopub.status.busy": "2024-07-23T09:36:45.724901Z",
          "iopub.execute_input": "2024-07-23T09:36:45.725283Z",
          "iopub.status.idle": "2024-07-23T09:36:45.792449Z",
          "shell.execute_reply.started": "2024-07-23T09:36:45.725253Z",
          "shell.execute_reply": "2024-07-23T09:36:45.791517Z"
        },
        "trusted": true,
        "id": "siNMJ83g-7JG"
      },
      "execution_count": null,
      "outputs": []
    },
    {
      "cell_type": "code",
      "source": [
        "import numpy as np\n",
        "from tensorflow.keras.preprocessing.image import load_img, img_to_array\n",
        "from tensorflow.keras.models import load_model\n",
        "\n",
        "\n",
        "def preprocess_image(image_path):\n",
        "    image = load_img(image_path, target_size=(32, 32))\n",
        "    image = img_to_array(image)\n",
        "    image = image / 255.0\n",
        "    image = np.expand_dims(image, axis=0)\n",
        "    return image\n",
        "\n",
        "\n",
        "def predict_image_class(image_path, model):\n",
        "    processed_image = preprocess_image(image_path)\n",
        "    predictions = model.predict(processed_image)\n",
        "    predicted_class = np.argmax(predictions, axis=1)\n",
        "    return predicted_class[0], predictions\n",
        "\n",
        "image_path = '/kaggle/input/cat-pik/cat.jpeg'  # Replace with your image path\n",
        "predicted_class, predicted_probabilities = predict_image_class(image_path, model)\n",
        "\n",
        "print(f\"Predicted class: {predicted_class}\")\n",
        "print(f\"Predicted probabilities: {predicted_probabilities}\")\n"
      ],
      "metadata": {
        "execution": {
          "iopub.status.busy": "2024-07-23T09:44:10.650951Z",
          "iopub.execute_input": "2024-07-23T09:44:10.651601Z",
          "iopub.status.idle": "2024-07-23T09:44:10.794619Z",
          "shell.execute_reply.started": "2024-07-23T09:44:10.651567Z",
          "shell.execute_reply": "2024-07-23T09:44:10.792933Z"
        },
        "trusted": true,
        "id": "5Wb9rZPB-7JG",
        "outputId": "d4101554-0855-4212-ee6d-c3744c785c5e"
      },
      "execution_count": null,
      "outputs": [
        {
          "name": "stdout",
          "text": "\u001b[1m1/1\u001b[0m \u001b[32m━━━━━━━━━━━━━━━━━━━━\u001b[0m\u001b[37m\u001b[0m \u001b[1m0s\u001b[0m 19ms/step\nPredicted class: 5\nPredicted probabilities: [[1.9329491e-06 2.3865754e-08 2.3763407e-05 8.0999419e-02 1.5848438e-03\n  9.1541570e-01 9.0884983e-05 1.8819976e-03 1.3057179e-06 1.1748256e-07]]\n",
          "output_type": "stream"
        }
      ]
    },
    {
      "cell_type": "code",
      "source": [],
      "metadata": {
        "id": "RDELQFZ9-7JH"
      },
      "execution_count": null,
      "outputs": []
    }
  ]
}
