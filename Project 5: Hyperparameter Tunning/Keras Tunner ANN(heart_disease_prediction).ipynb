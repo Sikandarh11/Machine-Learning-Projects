{
  "nbformat": 4,
  "nbformat_minor": 0,
  "metadata": {
    "colab": {
      "provenance": [],
      "gpuType": "T4",
      "authorship_tag": "ABX9TyOgAfH8pd7MatXvziE7HoOy",
      "include_colab_link": true
    },
    "kernelspec": {
      "name": "python3",
      "display_name": "Python 3"
    },
    "language_info": {
      "name": "python"
    },
    "accelerator": "GPU"
  },
  "cells": [
    {
      "cell_type": "markdown",
      "metadata": {
        "id": "view-in-github",
        "colab_type": "text"
      },
      "source": [
        "<a href=\"https://colab.research.google.com/github/Sikandarh11/Machine-Learning-Projects/blob/main/Keras%20Tunner%20ANN(heart_disease_prediction).ipynb\" target=\"_parent\"><img src=\"https://colab.research.google.com/assets/colab-badge.svg\" alt=\"Open In Colab\"/></a>"
      ]
    },
    {
      "cell_type": "code",
      "execution_count": 1,
      "metadata": {
        "id": "SFxA6fdbrbtv"
      },
      "outputs": [],
      "source": [
        "!mkdir -p ~/.kaggle\n",
        "!cp kaggle.json ~/.kaggle/"
      ]
    },
    {
      "cell_type": "code",
      "source": [
        "!kaggle datasets download -d rishidamarla/heart-disease-prediction"
      ],
      "metadata": {
        "colab": {
          "base_uri": "https://localhost:8080/"
        },
        "id": "IUhanq_irmJj",
        "outputId": "fa9d3a40-690e-487c-ff40-df728e2b8de3"
      },
      "execution_count": 2,
      "outputs": [
        {
          "output_type": "stream",
          "name": "stdout",
          "text": [
            "Warning: Your Kaggle API key is readable by other users on this system! To fix this, you can run 'chmod 600 /root/.kaggle/kaggle.json'\n",
            "Dataset URL: https://www.kaggle.com/datasets/rishidamarla/heart-disease-prediction\n",
            "License(s): CC0-1.0\n",
            "Downloading heart-disease-prediction.zip to /content\n",
            "  0% 0.00/3.41k [00:00<?, ?B/s]\n",
            "100% 3.41k/3.41k [00:00<00:00, 10.1MB/s]\n"
          ]
        }
      ]
    },
    {
      "cell_type": "code",
      "source": [
        "import zipfile\n",
        "zip_data = zipfile.ZipFile('/content/heart-disease-prediction.zip')\n",
        "zip_data.extractall('\\content')\n",
        "zip_data.close()"
      ],
      "metadata": {
        "id": "HgaxV1rKr2eC"
      },
      "execution_count": 3,
      "outputs": []
    },
    {
      "cell_type": "code",
      "source": [
        "import numpy as np\n",
        "import pandas as pd\n",
        "df = pd.read_csv('/content/\\content/Heart_Disease_Prediction.csv')"
      ],
      "metadata": {
        "id": "-oP9_l0XsRou"
      },
      "execution_count": 4,
      "outputs": []
    },
    {
      "cell_type": "code",
      "source": [
        "df.head()"
      ],
      "metadata": {
        "colab": {
          "base_uri": "https://localhost:8080/",
          "height": 240
        },
        "id": "vd1342yPsebz",
        "outputId": "5eb21a4d-c11e-4272-ff3b-0ecdcc72a2be"
      },
      "execution_count": 5,
      "outputs": [
        {
          "output_type": "execute_result",
          "data": {
            "text/plain": [
              "   Age  Sex  Chest pain type   BP  Cholesterol  FBS over 120  EKG results  \\\n",
              "0   70    1                4  130          322             0            2   \n",
              "1   67    0                3  115          564             0            2   \n",
              "2   57    1                2  124          261             0            0   \n",
              "3   64    1                4  128          263             0            0   \n",
              "4   74    0                2  120          269             0            2   \n",
              "\n",
              "   Max HR  Exercise angina  ST depression  Slope of ST  \\\n",
              "0     109                0            2.4            2   \n",
              "1     160                0            1.6            2   \n",
              "2     141                0            0.3            1   \n",
              "3     105                1            0.2            2   \n",
              "4     121                1            0.2            1   \n",
              "\n",
              "   Number of vessels fluro  Thallium Heart Disease  \n",
              "0                        3         3      Presence  \n",
              "1                        0         7       Absence  \n",
              "2                        0         7      Presence  \n",
              "3                        1         7       Absence  \n",
              "4                        1         3       Absence  "
            ],
            "text/html": [
              "\n",
              "  <div id=\"df-f3f76746-3411-4ea1-b175-d2a62a130045\" class=\"colab-df-container\">\n",
              "    <div>\n",
              "<style scoped>\n",
              "    .dataframe tbody tr th:only-of-type {\n",
              "        vertical-align: middle;\n",
              "    }\n",
              "\n",
              "    .dataframe tbody tr th {\n",
              "        vertical-align: top;\n",
              "    }\n",
              "\n",
              "    .dataframe thead th {\n",
              "        text-align: right;\n",
              "    }\n",
              "</style>\n",
              "<table border=\"1\" class=\"dataframe\">\n",
              "  <thead>\n",
              "    <tr style=\"text-align: right;\">\n",
              "      <th></th>\n",
              "      <th>Age</th>\n",
              "      <th>Sex</th>\n",
              "      <th>Chest pain type</th>\n",
              "      <th>BP</th>\n",
              "      <th>Cholesterol</th>\n",
              "      <th>FBS over 120</th>\n",
              "      <th>EKG results</th>\n",
              "      <th>Max HR</th>\n",
              "      <th>Exercise angina</th>\n",
              "      <th>ST depression</th>\n",
              "      <th>Slope of ST</th>\n",
              "      <th>Number of vessels fluro</th>\n",
              "      <th>Thallium</th>\n",
              "      <th>Heart Disease</th>\n",
              "    </tr>\n",
              "  </thead>\n",
              "  <tbody>\n",
              "    <tr>\n",
              "      <th>0</th>\n",
              "      <td>70</td>\n",
              "      <td>1</td>\n",
              "      <td>4</td>\n",
              "      <td>130</td>\n",
              "      <td>322</td>\n",
              "      <td>0</td>\n",
              "      <td>2</td>\n",
              "      <td>109</td>\n",
              "      <td>0</td>\n",
              "      <td>2.4</td>\n",
              "      <td>2</td>\n",
              "      <td>3</td>\n",
              "      <td>3</td>\n",
              "      <td>Presence</td>\n",
              "    </tr>\n",
              "    <tr>\n",
              "      <th>1</th>\n",
              "      <td>67</td>\n",
              "      <td>0</td>\n",
              "      <td>3</td>\n",
              "      <td>115</td>\n",
              "      <td>564</td>\n",
              "      <td>0</td>\n",
              "      <td>2</td>\n",
              "      <td>160</td>\n",
              "      <td>0</td>\n",
              "      <td>1.6</td>\n",
              "      <td>2</td>\n",
              "      <td>0</td>\n",
              "      <td>7</td>\n",
              "      <td>Absence</td>\n",
              "    </tr>\n",
              "    <tr>\n",
              "      <th>2</th>\n",
              "      <td>57</td>\n",
              "      <td>1</td>\n",
              "      <td>2</td>\n",
              "      <td>124</td>\n",
              "      <td>261</td>\n",
              "      <td>0</td>\n",
              "      <td>0</td>\n",
              "      <td>141</td>\n",
              "      <td>0</td>\n",
              "      <td>0.3</td>\n",
              "      <td>1</td>\n",
              "      <td>0</td>\n",
              "      <td>7</td>\n",
              "      <td>Presence</td>\n",
              "    </tr>\n",
              "    <tr>\n",
              "      <th>3</th>\n",
              "      <td>64</td>\n",
              "      <td>1</td>\n",
              "      <td>4</td>\n",
              "      <td>128</td>\n",
              "      <td>263</td>\n",
              "      <td>0</td>\n",
              "      <td>0</td>\n",
              "      <td>105</td>\n",
              "      <td>1</td>\n",
              "      <td>0.2</td>\n",
              "      <td>2</td>\n",
              "      <td>1</td>\n",
              "      <td>7</td>\n",
              "      <td>Absence</td>\n",
              "    </tr>\n",
              "    <tr>\n",
              "      <th>4</th>\n",
              "      <td>74</td>\n",
              "      <td>0</td>\n",
              "      <td>2</td>\n",
              "      <td>120</td>\n",
              "      <td>269</td>\n",
              "      <td>0</td>\n",
              "      <td>2</td>\n",
              "      <td>121</td>\n",
              "      <td>1</td>\n",
              "      <td>0.2</td>\n",
              "      <td>1</td>\n",
              "      <td>1</td>\n",
              "      <td>3</td>\n",
              "      <td>Absence</td>\n",
              "    </tr>\n",
              "  </tbody>\n",
              "</table>\n",
              "</div>\n",
              "    <div class=\"colab-df-buttons\">\n",
              "\n",
              "  <div class=\"colab-df-container\">\n",
              "    <button class=\"colab-df-convert\" onclick=\"convertToInteractive('df-f3f76746-3411-4ea1-b175-d2a62a130045')\"\n",
              "            title=\"Convert this dataframe to an interactive table.\"\n",
              "            style=\"display:none;\">\n",
              "\n",
              "  <svg xmlns=\"http://www.w3.org/2000/svg\" height=\"24px\" viewBox=\"0 -960 960 960\">\n",
              "    <path d=\"M120-120v-720h720v720H120Zm60-500h600v-160H180v160Zm220 220h160v-160H400v160Zm0 220h160v-160H400v160ZM180-400h160v-160H180v160Zm440 0h160v-160H620v160ZM180-180h160v-160H180v160Zm440 0h160v-160H620v160Z\"/>\n",
              "  </svg>\n",
              "    </button>\n",
              "\n",
              "  <style>\n",
              "    .colab-df-container {\n",
              "      display:flex;\n",
              "      gap: 12px;\n",
              "    }\n",
              "\n",
              "    .colab-df-convert {\n",
              "      background-color: #E8F0FE;\n",
              "      border: none;\n",
              "      border-radius: 50%;\n",
              "      cursor: pointer;\n",
              "      display: none;\n",
              "      fill: #1967D2;\n",
              "      height: 32px;\n",
              "      padding: 0 0 0 0;\n",
              "      width: 32px;\n",
              "    }\n",
              "\n",
              "    .colab-df-convert:hover {\n",
              "      background-color: #E2EBFA;\n",
              "      box-shadow: 0px 1px 2px rgba(60, 64, 67, 0.3), 0px 1px 3px 1px rgba(60, 64, 67, 0.15);\n",
              "      fill: #174EA6;\n",
              "    }\n",
              "\n",
              "    .colab-df-buttons div {\n",
              "      margin-bottom: 4px;\n",
              "    }\n",
              "\n",
              "    [theme=dark] .colab-df-convert {\n",
              "      background-color: #3B4455;\n",
              "      fill: #D2E3FC;\n",
              "    }\n",
              "\n",
              "    [theme=dark] .colab-df-convert:hover {\n",
              "      background-color: #434B5C;\n",
              "      box-shadow: 0px 1px 3px 1px rgba(0, 0, 0, 0.15);\n",
              "      filter: drop-shadow(0px 1px 2px rgba(0, 0, 0, 0.3));\n",
              "      fill: #FFFFFF;\n",
              "    }\n",
              "  </style>\n",
              "\n",
              "    <script>\n",
              "      const buttonEl =\n",
              "        document.querySelector('#df-f3f76746-3411-4ea1-b175-d2a62a130045 button.colab-df-convert');\n",
              "      buttonEl.style.display =\n",
              "        google.colab.kernel.accessAllowed ? 'block' : 'none';\n",
              "\n",
              "      async function convertToInteractive(key) {\n",
              "        const element = document.querySelector('#df-f3f76746-3411-4ea1-b175-d2a62a130045');\n",
              "        const dataTable =\n",
              "          await google.colab.kernel.invokeFunction('convertToInteractive',\n",
              "                                                    [key], {});\n",
              "        if (!dataTable) return;\n",
              "\n",
              "        const docLinkHtml = 'Like what you see? Visit the ' +\n",
              "          '<a target=\"_blank\" href=https://colab.research.google.com/notebooks/data_table.ipynb>data table notebook</a>'\n",
              "          + ' to learn more about interactive tables.';\n",
              "        element.innerHTML = '';\n",
              "        dataTable['output_type'] = 'display_data';\n",
              "        await google.colab.output.renderOutput(dataTable, element);\n",
              "        const docLink = document.createElement('div');\n",
              "        docLink.innerHTML = docLinkHtml;\n",
              "        element.appendChild(docLink);\n",
              "      }\n",
              "    </script>\n",
              "  </div>\n",
              "\n",
              "\n",
              "<div id=\"df-a0c9e92d-196c-49f0-a96b-f3d4aafbe0be\">\n",
              "  <button class=\"colab-df-quickchart\" onclick=\"quickchart('df-a0c9e92d-196c-49f0-a96b-f3d4aafbe0be')\"\n",
              "            title=\"Suggest charts\"\n",
              "            style=\"display:none;\">\n",
              "\n",
              "<svg xmlns=\"http://www.w3.org/2000/svg\" height=\"24px\"viewBox=\"0 0 24 24\"\n",
              "     width=\"24px\">\n",
              "    <g>\n",
              "        <path d=\"M19 3H5c-1.1 0-2 .9-2 2v14c0 1.1.9 2 2 2h14c1.1 0 2-.9 2-2V5c0-1.1-.9-2-2-2zM9 17H7v-7h2v7zm4 0h-2V7h2v10zm4 0h-2v-4h2v4z\"/>\n",
              "    </g>\n",
              "</svg>\n",
              "  </button>\n",
              "\n",
              "<style>\n",
              "  .colab-df-quickchart {\n",
              "      --bg-color: #E8F0FE;\n",
              "      --fill-color: #1967D2;\n",
              "      --hover-bg-color: #E2EBFA;\n",
              "      --hover-fill-color: #174EA6;\n",
              "      --disabled-fill-color: #AAA;\n",
              "      --disabled-bg-color: #DDD;\n",
              "  }\n",
              "\n",
              "  [theme=dark] .colab-df-quickchart {\n",
              "      --bg-color: #3B4455;\n",
              "      --fill-color: #D2E3FC;\n",
              "      --hover-bg-color: #434B5C;\n",
              "      --hover-fill-color: #FFFFFF;\n",
              "      --disabled-bg-color: #3B4455;\n",
              "      --disabled-fill-color: #666;\n",
              "  }\n",
              "\n",
              "  .colab-df-quickchart {\n",
              "    background-color: var(--bg-color);\n",
              "    border: none;\n",
              "    border-radius: 50%;\n",
              "    cursor: pointer;\n",
              "    display: none;\n",
              "    fill: var(--fill-color);\n",
              "    height: 32px;\n",
              "    padding: 0;\n",
              "    width: 32px;\n",
              "  }\n",
              "\n",
              "  .colab-df-quickchart:hover {\n",
              "    background-color: var(--hover-bg-color);\n",
              "    box-shadow: 0 1px 2px rgba(60, 64, 67, 0.3), 0 1px 3px 1px rgba(60, 64, 67, 0.15);\n",
              "    fill: var(--button-hover-fill-color);\n",
              "  }\n",
              "\n",
              "  .colab-df-quickchart-complete:disabled,\n",
              "  .colab-df-quickchart-complete:disabled:hover {\n",
              "    background-color: var(--disabled-bg-color);\n",
              "    fill: var(--disabled-fill-color);\n",
              "    box-shadow: none;\n",
              "  }\n",
              "\n",
              "  .colab-df-spinner {\n",
              "    border: 2px solid var(--fill-color);\n",
              "    border-color: transparent;\n",
              "    border-bottom-color: var(--fill-color);\n",
              "    animation:\n",
              "      spin 1s steps(1) infinite;\n",
              "  }\n",
              "\n",
              "  @keyframes spin {\n",
              "    0% {\n",
              "      border-color: transparent;\n",
              "      border-bottom-color: var(--fill-color);\n",
              "      border-left-color: var(--fill-color);\n",
              "    }\n",
              "    20% {\n",
              "      border-color: transparent;\n",
              "      border-left-color: var(--fill-color);\n",
              "      border-top-color: var(--fill-color);\n",
              "    }\n",
              "    30% {\n",
              "      border-color: transparent;\n",
              "      border-left-color: var(--fill-color);\n",
              "      border-top-color: var(--fill-color);\n",
              "      border-right-color: var(--fill-color);\n",
              "    }\n",
              "    40% {\n",
              "      border-color: transparent;\n",
              "      border-right-color: var(--fill-color);\n",
              "      border-top-color: var(--fill-color);\n",
              "    }\n",
              "    60% {\n",
              "      border-color: transparent;\n",
              "      border-right-color: var(--fill-color);\n",
              "    }\n",
              "    80% {\n",
              "      border-color: transparent;\n",
              "      border-right-color: var(--fill-color);\n",
              "      border-bottom-color: var(--fill-color);\n",
              "    }\n",
              "    90% {\n",
              "      border-color: transparent;\n",
              "      border-bottom-color: var(--fill-color);\n",
              "    }\n",
              "  }\n",
              "</style>\n",
              "\n",
              "  <script>\n",
              "    async function quickchart(key) {\n",
              "      const quickchartButtonEl =\n",
              "        document.querySelector('#' + key + ' button');\n",
              "      quickchartButtonEl.disabled = true;  // To prevent multiple clicks.\n",
              "      quickchartButtonEl.classList.add('colab-df-spinner');\n",
              "      try {\n",
              "        const charts = await google.colab.kernel.invokeFunction(\n",
              "            'suggestCharts', [key], {});\n",
              "      } catch (error) {\n",
              "        console.error('Error during call to suggestCharts:', error);\n",
              "      }\n",
              "      quickchartButtonEl.classList.remove('colab-df-spinner');\n",
              "      quickchartButtonEl.classList.add('colab-df-quickchart-complete');\n",
              "    }\n",
              "    (() => {\n",
              "      let quickchartButtonEl =\n",
              "        document.querySelector('#df-a0c9e92d-196c-49f0-a96b-f3d4aafbe0be button');\n",
              "      quickchartButtonEl.style.display =\n",
              "        google.colab.kernel.accessAllowed ? 'block' : 'none';\n",
              "    })();\n",
              "  </script>\n",
              "</div>\n",
              "\n",
              "    </div>\n",
              "  </div>\n"
            ],
            "application/vnd.google.colaboratory.intrinsic+json": {
              "type": "dataframe",
              "variable_name": "df",
              "summary": "{\n  \"name\": \"df\",\n  \"rows\": 270,\n  \"fields\": [\n    {\n      \"column\": \"Age\",\n      \"properties\": {\n        \"dtype\": \"number\",\n        \"std\": 9,\n        \"min\": 29,\n        \"max\": 77,\n        \"num_unique_values\": 41,\n        \"samples\": [\n          50,\n          71,\n          60\n        ],\n        \"semantic_type\": \"\",\n        \"description\": \"\"\n      }\n    },\n    {\n      \"column\": \"Sex\",\n      \"properties\": {\n        \"dtype\": \"number\",\n        \"std\": 0,\n        \"min\": 0,\n        \"max\": 1,\n        \"num_unique_values\": 2,\n        \"samples\": [\n          0,\n          1\n        ],\n        \"semantic_type\": \"\",\n        \"description\": \"\"\n      }\n    },\n    {\n      \"column\": \"Chest pain type\",\n      \"properties\": {\n        \"dtype\": \"number\",\n        \"std\": 0,\n        \"min\": 1,\n        \"max\": 4,\n        \"num_unique_values\": 4,\n        \"samples\": [\n          3,\n          1\n        ],\n        \"semantic_type\": \"\",\n        \"description\": \"\"\n      }\n    },\n    {\n      \"column\": \"BP\",\n      \"properties\": {\n        \"dtype\": \"number\",\n        \"std\": 17,\n        \"min\": 94,\n        \"max\": 200,\n        \"num_unique_values\": 47,\n        \"samples\": [\n          156,\n          200\n        ],\n        \"semantic_type\": \"\",\n        \"description\": \"\"\n      }\n    },\n    {\n      \"column\": \"Cholesterol\",\n      \"properties\": {\n        \"dtype\": \"number\",\n        \"std\": 51,\n        \"min\": 126,\n        \"max\": 564,\n        \"num_unique_values\": 144,\n        \"samples\": [\n          255,\n          229\n        ],\n        \"semantic_type\": \"\",\n        \"description\": \"\"\n      }\n    },\n    {\n      \"column\": \"FBS over 120\",\n      \"properties\": {\n        \"dtype\": \"number\",\n        \"std\": 0,\n        \"min\": 0,\n        \"max\": 1,\n        \"num_unique_values\": 2,\n        \"samples\": [\n          1,\n          0\n        ],\n        \"semantic_type\": \"\",\n        \"description\": \"\"\n      }\n    },\n    {\n      \"column\": \"EKG results\",\n      \"properties\": {\n        \"dtype\": \"number\",\n        \"std\": 0,\n        \"min\": 0,\n        \"max\": 2,\n        \"num_unique_values\": 3,\n        \"samples\": [\n          2,\n          0\n        ],\n        \"semantic_type\": \"\",\n        \"description\": \"\"\n      }\n    },\n    {\n      \"column\": \"Max HR\",\n      \"properties\": {\n        \"dtype\": \"number\",\n        \"std\": 23,\n        \"min\": 71,\n        \"max\": 202,\n        \"num_unique_values\": 90,\n        \"samples\": [\n          96,\n          139\n        ],\n        \"semantic_type\": \"\",\n        \"description\": \"\"\n      }\n    },\n    {\n      \"column\": \"Exercise angina\",\n      \"properties\": {\n        \"dtype\": \"number\",\n        \"std\": 0,\n        \"min\": 0,\n        \"max\": 1,\n        \"num_unique_values\": 2,\n        \"samples\": [\n          1,\n          0\n        ],\n        \"semantic_type\": \"\",\n        \"description\": \"\"\n      }\n    },\n    {\n      \"column\": \"ST depression\",\n      \"properties\": {\n        \"dtype\": \"number\",\n        \"std\": 1.1452098393779973,\n        \"min\": 0.0,\n        \"max\": 6.2,\n        \"num_unique_values\": 39,\n        \"samples\": [\n          2.1,\n          3.5\n        ],\n        \"semantic_type\": \"\",\n        \"description\": \"\"\n      }\n    },\n    {\n      \"column\": \"Slope of ST\",\n      \"properties\": {\n        \"dtype\": \"number\",\n        \"std\": 0,\n        \"min\": 1,\n        \"max\": 3,\n        \"num_unique_values\": 3,\n        \"samples\": [\n          2,\n          1\n        ],\n        \"semantic_type\": \"\",\n        \"description\": \"\"\n      }\n    },\n    {\n      \"column\": \"Number of vessels fluro\",\n      \"properties\": {\n        \"dtype\": \"number\",\n        \"std\": 0,\n        \"min\": 0,\n        \"max\": 3,\n        \"num_unique_values\": 4,\n        \"samples\": [\n          0,\n          2\n        ],\n        \"semantic_type\": \"\",\n        \"description\": \"\"\n      }\n    },\n    {\n      \"column\": \"Thallium\",\n      \"properties\": {\n        \"dtype\": \"number\",\n        \"std\": 1,\n        \"min\": 3,\n        \"max\": 7,\n        \"num_unique_values\": 3,\n        \"samples\": [\n          3,\n          7\n        ],\n        \"semantic_type\": \"\",\n        \"description\": \"\"\n      }\n    },\n    {\n      \"column\": \"Heart Disease\",\n      \"properties\": {\n        \"dtype\": \"category\",\n        \"num_unique_values\": 2,\n        \"samples\": [\n          \"Absence\",\n          \"Presence\"\n        ],\n        \"semantic_type\": \"\",\n        \"description\": \"\"\n      }\n    }\n  ]\n}"
            }
          },
          "metadata": {},
          "execution_count": 5
        }
      ]
    },
    {
      "cell_type": "code",
      "source": [
        "df.isnull().sum()"
      ],
      "metadata": {
        "colab": {
          "base_uri": "https://localhost:8080/"
        },
        "id": "SGy1ZLrVsfqa",
        "outputId": "c26510e0-ab87-4ca4-fda0-ac0365fb74ab"
      },
      "execution_count": 6,
      "outputs": [
        {
          "output_type": "execute_result",
          "data": {
            "text/plain": [
              "Age                        0\n",
              "Sex                        0\n",
              "Chest pain type            0\n",
              "BP                         0\n",
              "Cholesterol                0\n",
              "FBS over 120               0\n",
              "EKG results                0\n",
              "Max HR                     0\n",
              "Exercise angina            0\n",
              "ST depression              0\n",
              "Slope of ST                0\n",
              "Number of vessels fluro    0\n",
              "Thallium                   0\n",
              "Heart Disease              0\n",
              "dtype: int64"
            ]
          },
          "metadata": {},
          "execution_count": 6
        }
      ]
    },
    {
      "cell_type": "code",
      "source": [
        "df.duplicated().sum()"
      ],
      "metadata": {
        "colab": {
          "base_uri": "https://localhost:8080/"
        },
        "id": "c-rnuxeBsmaU",
        "outputId": "eb107612-efa1-4585-90cc-0323b2d98208"
      },
      "execution_count": 7,
      "outputs": [
        {
          "output_type": "execute_result",
          "data": {
            "text/plain": [
              "0"
            ]
          },
          "metadata": {},
          "execution_count": 7
        }
      ]
    },
    {
      "cell_type": "code",
      "source": [
        "df.describe()"
      ],
      "metadata": {
        "colab": {
          "base_uri": "https://localhost:8080/",
          "height": 354
        },
        "id": "hoDUSp1xstBv",
        "outputId": "08d97279-6827-4456-b32d-e717e5e4d6d0"
      },
      "execution_count": 8,
      "outputs": [
        {
          "output_type": "execute_result",
          "data": {
            "text/plain": [
              "              Age         Sex  Chest pain type          BP  Cholesterol  \\\n",
              "count  270.000000  270.000000       270.000000  270.000000   270.000000   \n",
              "mean    54.433333    0.677778         3.174074  131.344444   249.659259   \n",
              "std      9.109067    0.468195         0.950090   17.861608    51.686237   \n",
              "min     29.000000    0.000000         1.000000   94.000000   126.000000   \n",
              "25%     48.000000    0.000000         3.000000  120.000000   213.000000   \n",
              "50%     55.000000    1.000000         3.000000  130.000000   245.000000   \n",
              "75%     61.000000    1.000000         4.000000  140.000000   280.000000   \n",
              "max     77.000000    1.000000         4.000000  200.000000   564.000000   \n",
              "\n",
              "       FBS over 120  EKG results      Max HR  Exercise angina  ST depression  \\\n",
              "count    270.000000   270.000000  270.000000       270.000000      270.00000   \n",
              "mean       0.148148     1.022222  149.677778         0.329630        1.05000   \n",
              "std        0.355906     0.997891   23.165717         0.470952        1.14521   \n",
              "min        0.000000     0.000000   71.000000         0.000000        0.00000   \n",
              "25%        0.000000     0.000000  133.000000         0.000000        0.00000   \n",
              "50%        0.000000     2.000000  153.500000         0.000000        0.80000   \n",
              "75%        0.000000     2.000000  166.000000         1.000000        1.60000   \n",
              "max        1.000000     2.000000  202.000000         1.000000        6.20000   \n",
              "\n",
              "       Slope of ST  Number of vessels fluro    Thallium  \n",
              "count   270.000000               270.000000  270.000000  \n",
              "mean      1.585185                 0.670370    4.696296  \n",
              "std       0.614390                 0.943896    1.940659  \n",
              "min       1.000000                 0.000000    3.000000  \n",
              "25%       1.000000                 0.000000    3.000000  \n",
              "50%       2.000000                 0.000000    3.000000  \n",
              "75%       2.000000                 1.000000    7.000000  \n",
              "max       3.000000                 3.000000    7.000000  "
            ],
            "text/html": [
              "\n",
              "  <div id=\"df-683765ed-3893-4eb5-8f73-c6d589faf108\" class=\"colab-df-container\">\n",
              "    <div>\n",
              "<style scoped>\n",
              "    .dataframe tbody tr th:only-of-type {\n",
              "        vertical-align: middle;\n",
              "    }\n",
              "\n",
              "    .dataframe tbody tr th {\n",
              "        vertical-align: top;\n",
              "    }\n",
              "\n",
              "    .dataframe thead th {\n",
              "        text-align: right;\n",
              "    }\n",
              "</style>\n",
              "<table border=\"1\" class=\"dataframe\">\n",
              "  <thead>\n",
              "    <tr style=\"text-align: right;\">\n",
              "      <th></th>\n",
              "      <th>Age</th>\n",
              "      <th>Sex</th>\n",
              "      <th>Chest pain type</th>\n",
              "      <th>BP</th>\n",
              "      <th>Cholesterol</th>\n",
              "      <th>FBS over 120</th>\n",
              "      <th>EKG results</th>\n",
              "      <th>Max HR</th>\n",
              "      <th>Exercise angina</th>\n",
              "      <th>ST depression</th>\n",
              "      <th>Slope of ST</th>\n",
              "      <th>Number of vessels fluro</th>\n",
              "      <th>Thallium</th>\n",
              "    </tr>\n",
              "  </thead>\n",
              "  <tbody>\n",
              "    <tr>\n",
              "      <th>count</th>\n",
              "      <td>270.000000</td>\n",
              "      <td>270.000000</td>\n",
              "      <td>270.000000</td>\n",
              "      <td>270.000000</td>\n",
              "      <td>270.000000</td>\n",
              "      <td>270.000000</td>\n",
              "      <td>270.000000</td>\n",
              "      <td>270.000000</td>\n",
              "      <td>270.000000</td>\n",
              "      <td>270.00000</td>\n",
              "      <td>270.000000</td>\n",
              "      <td>270.000000</td>\n",
              "      <td>270.000000</td>\n",
              "    </tr>\n",
              "    <tr>\n",
              "      <th>mean</th>\n",
              "      <td>54.433333</td>\n",
              "      <td>0.677778</td>\n",
              "      <td>3.174074</td>\n",
              "      <td>131.344444</td>\n",
              "      <td>249.659259</td>\n",
              "      <td>0.148148</td>\n",
              "      <td>1.022222</td>\n",
              "      <td>149.677778</td>\n",
              "      <td>0.329630</td>\n",
              "      <td>1.05000</td>\n",
              "      <td>1.585185</td>\n",
              "      <td>0.670370</td>\n",
              "      <td>4.696296</td>\n",
              "    </tr>\n",
              "    <tr>\n",
              "      <th>std</th>\n",
              "      <td>9.109067</td>\n",
              "      <td>0.468195</td>\n",
              "      <td>0.950090</td>\n",
              "      <td>17.861608</td>\n",
              "      <td>51.686237</td>\n",
              "      <td>0.355906</td>\n",
              "      <td>0.997891</td>\n",
              "      <td>23.165717</td>\n",
              "      <td>0.470952</td>\n",
              "      <td>1.14521</td>\n",
              "      <td>0.614390</td>\n",
              "      <td>0.943896</td>\n",
              "      <td>1.940659</td>\n",
              "    </tr>\n",
              "    <tr>\n",
              "      <th>min</th>\n",
              "      <td>29.000000</td>\n",
              "      <td>0.000000</td>\n",
              "      <td>1.000000</td>\n",
              "      <td>94.000000</td>\n",
              "      <td>126.000000</td>\n",
              "      <td>0.000000</td>\n",
              "      <td>0.000000</td>\n",
              "      <td>71.000000</td>\n",
              "      <td>0.000000</td>\n",
              "      <td>0.00000</td>\n",
              "      <td>1.000000</td>\n",
              "      <td>0.000000</td>\n",
              "      <td>3.000000</td>\n",
              "    </tr>\n",
              "    <tr>\n",
              "      <th>25%</th>\n",
              "      <td>48.000000</td>\n",
              "      <td>0.000000</td>\n",
              "      <td>3.000000</td>\n",
              "      <td>120.000000</td>\n",
              "      <td>213.000000</td>\n",
              "      <td>0.000000</td>\n",
              "      <td>0.000000</td>\n",
              "      <td>133.000000</td>\n",
              "      <td>0.000000</td>\n",
              "      <td>0.00000</td>\n",
              "      <td>1.000000</td>\n",
              "      <td>0.000000</td>\n",
              "      <td>3.000000</td>\n",
              "    </tr>\n",
              "    <tr>\n",
              "      <th>50%</th>\n",
              "      <td>55.000000</td>\n",
              "      <td>1.000000</td>\n",
              "      <td>3.000000</td>\n",
              "      <td>130.000000</td>\n",
              "      <td>245.000000</td>\n",
              "      <td>0.000000</td>\n",
              "      <td>2.000000</td>\n",
              "      <td>153.500000</td>\n",
              "      <td>0.000000</td>\n",
              "      <td>0.80000</td>\n",
              "      <td>2.000000</td>\n",
              "      <td>0.000000</td>\n",
              "      <td>3.000000</td>\n",
              "    </tr>\n",
              "    <tr>\n",
              "      <th>75%</th>\n",
              "      <td>61.000000</td>\n",
              "      <td>1.000000</td>\n",
              "      <td>4.000000</td>\n",
              "      <td>140.000000</td>\n",
              "      <td>280.000000</td>\n",
              "      <td>0.000000</td>\n",
              "      <td>2.000000</td>\n",
              "      <td>166.000000</td>\n",
              "      <td>1.000000</td>\n",
              "      <td>1.60000</td>\n",
              "      <td>2.000000</td>\n",
              "      <td>1.000000</td>\n",
              "      <td>7.000000</td>\n",
              "    </tr>\n",
              "    <tr>\n",
              "      <th>max</th>\n",
              "      <td>77.000000</td>\n",
              "      <td>1.000000</td>\n",
              "      <td>4.000000</td>\n",
              "      <td>200.000000</td>\n",
              "      <td>564.000000</td>\n",
              "      <td>1.000000</td>\n",
              "      <td>2.000000</td>\n",
              "      <td>202.000000</td>\n",
              "      <td>1.000000</td>\n",
              "      <td>6.20000</td>\n",
              "      <td>3.000000</td>\n",
              "      <td>3.000000</td>\n",
              "      <td>7.000000</td>\n",
              "    </tr>\n",
              "  </tbody>\n",
              "</table>\n",
              "</div>\n",
              "    <div class=\"colab-df-buttons\">\n",
              "\n",
              "  <div class=\"colab-df-container\">\n",
              "    <button class=\"colab-df-convert\" onclick=\"convertToInteractive('df-683765ed-3893-4eb5-8f73-c6d589faf108')\"\n",
              "            title=\"Convert this dataframe to an interactive table.\"\n",
              "            style=\"display:none;\">\n",
              "\n",
              "  <svg xmlns=\"http://www.w3.org/2000/svg\" height=\"24px\" viewBox=\"0 -960 960 960\">\n",
              "    <path d=\"M120-120v-720h720v720H120Zm60-500h600v-160H180v160Zm220 220h160v-160H400v160Zm0 220h160v-160H400v160ZM180-400h160v-160H180v160Zm440 0h160v-160H620v160ZM180-180h160v-160H180v160Zm440 0h160v-160H620v160Z\"/>\n",
              "  </svg>\n",
              "    </button>\n",
              "\n",
              "  <style>\n",
              "    .colab-df-container {\n",
              "      display:flex;\n",
              "      gap: 12px;\n",
              "    }\n",
              "\n",
              "    .colab-df-convert {\n",
              "      background-color: #E8F0FE;\n",
              "      border: none;\n",
              "      border-radius: 50%;\n",
              "      cursor: pointer;\n",
              "      display: none;\n",
              "      fill: #1967D2;\n",
              "      height: 32px;\n",
              "      padding: 0 0 0 0;\n",
              "      width: 32px;\n",
              "    }\n",
              "\n",
              "    .colab-df-convert:hover {\n",
              "      background-color: #E2EBFA;\n",
              "      box-shadow: 0px 1px 2px rgba(60, 64, 67, 0.3), 0px 1px 3px 1px rgba(60, 64, 67, 0.15);\n",
              "      fill: #174EA6;\n",
              "    }\n",
              "\n",
              "    .colab-df-buttons div {\n",
              "      margin-bottom: 4px;\n",
              "    }\n",
              "\n",
              "    [theme=dark] .colab-df-convert {\n",
              "      background-color: #3B4455;\n",
              "      fill: #D2E3FC;\n",
              "    }\n",
              "\n",
              "    [theme=dark] .colab-df-convert:hover {\n",
              "      background-color: #434B5C;\n",
              "      box-shadow: 0px 1px 3px 1px rgba(0, 0, 0, 0.15);\n",
              "      filter: drop-shadow(0px 1px 2px rgba(0, 0, 0, 0.3));\n",
              "      fill: #FFFFFF;\n",
              "    }\n",
              "  </style>\n",
              "\n",
              "    <script>\n",
              "      const buttonEl =\n",
              "        document.querySelector('#df-683765ed-3893-4eb5-8f73-c6d589faf108 button.colab-df-convert');\n",
              "      buttonEl.style.display =\n",
              "        google.colab.kernel.accessAllowed ? 'block' : 'none';\n",
              "\n",
              "      async function convertToInteractive(key) {\n",
              "        const element = document.querySelector('#df-683765ed-3893-4eb5-8f73-c6d589faf108');\n",
              "        const dataTable =\n",
              "          await google.colab.kernel.invokeFunction('convertToInteractive',\n",
              "                                                    [key], {});\n",
              "        if (!dataTable) return;\n",
              "\n",
              "        const docLinkHtml = 'Like what you see? Visit the ' +\n",
              "          '<a target=\"_blank\" href=https://colab.research.google.com/notebooks/data_table.ipynb>data table notebook</a>'\n",
              "          + ' to learn more about interactive tables.';\n",
              "        element.innerHTML = '';\n",
              "        dataTable['output_type'] = 'display_data';\n",
              "        await google.colab.output.renderOutput(dataTable, element);\n",
              "        const docLink = document.createElement('div');\n",
              "        docLink.innerHTML = docLinkHtml;\n",
              "        element.appendChild(docLink);\n",
              "      }\n",
              "    </script>\n",
              "  </div>\n",
              "\n",
              "\n",
              "<div id=\"df-2d471041-7d42-4a24-bdb8-b151f312c048\">\n",
              "  <button class=\"colab-df-quickchart\" onclick=\"quickchart('df-2d471041-7d42-4a24-bdb8-b151f312c048')\"\n",
              "            title=\"Suggest charts\"\n",
              "            style=\"display:none;\">\n",
              "\n",
              "<svg xmlns=\"http://www.w3.org/2000/svg\" height=\"24px\"viewBox=\"0 0 24 24\"\n",
              "     width=\"24px\">\n",
              "    <g>\n",
              "        <path d=\"M19 3H5c-1.1 0-2 .9-2 2v14c0 1.1.9 2 2 2h14c1.1 0 2-.9 2-2V5c0-1.1-.9-2-2-2zM9 17H7v-7h2v7zm4 0h-2V7h2v10zm4 0h-2v-4h2v4z\"/>\n",
              "    </g>\n",
              "</svg>\n",
              "  </button>\n",
              "\n",
              "<style>\n",
              "  .colab-df-quickchart {\n",
              "      --bg-color: #E8F0FE;\n",
              "      --fill-color: #1967D2;\n",
              "      --hover-bg-color: #E2EBFA;\n",
              "      --hover-fill-color: #174EA6;\n",
              "      --disabled-fill-color: #AAA;\n",
              "      --disabled-bg-color: #DDD;\n",
              "  }\n",
              "\n",
              "  [theme=dark] .colab-df-quickchart {\n",
              "      --bg-color: #3B4455;\n",
              "      --fill-color: #D2E3FC;\n",
              "      --hover-bg-color: #434B5C;\n",
              "      --hover-fill-color: #FFFFFF;\n",
              "      --disabled-bg-color: #3B4455;\n",
              "      --disabled-fill-color: #666;\n",
              "  }\n",
              "\n",
              "  .colab-df-quickchart {\n",
              "    background-color: var(--bg-color);\n",
              "    border: none;\n",
              "    border-radius: 50%;\n",
              "    cursor: pointer;\n",
              "    display: none;\n",
              "    fill: var(--fill-color);\n",
              "    height: 32px;\n",
              "    padding: 0;\n",
              "    width: 32px;\n",
              "  }\n",
              "\n",
              "  .colab-df-quickchart:hover {\n",
              "    background-color: var(--hover-bg-color);\n",
              "    box-shadow: 0 1px 2px rgba(60, 64, 67, 0.3), 0 1px 3px 1px rgba(60, 64, 67, 0.15);\n",
              "    fill: var(--button-hover-fill-color);\n",
              "  }\n",
              "\n",
              "  .colab-df-quickchart-complete:disabled,\n",
              "  .colab-df-quickchart-complete:disabled:hover {\n",
              "    background-color: var(--disabled-bg-color);\n",
              "    fill: var(--disabled-fill-color);\n",
              "    box-shadow: none;\n",
              "  }\n",
              "\n",
              "  .colab-df-spinner {\n",
              "    border: 2px solid var(--fill-color);\n",
              "    border-color: transparent;\n",
              "    border-bottom-color: var(--fill-color);\n",
              "    animation:\n",
              "      spin 1s steps(1) infinite;\n",
              "  }\n",
              "\n",
              "  @keyframes spin {\n",
              "    0% {\n",
              "      border-color: transparent;\n",
              "      border-bottom-color: var(--fill-color);\n",
              "      border-left-color: var(--fill-color);\n",
              "    }\n",
              "    20% {\n",
              "      border-color: transparent;\n",
              "      border-left-color: var(--fill-color);\n",
              "      border-top-color: var(--fill-color);\n",
              "    }\n",
              "    30% {\n",
              "      border-color: transparent;\n",
              "      border-left-color: var(--fill-color);\n",
              "      border-top-color: var(--fill-color);\n",
              "      border-right-color: var(--fill-color);\n",
              "    }\n",
              "    40% {\n",
              "      border-color: transparent;\n",
              "      border-right-color: var(--fill-color);\n",
              "      border-top-color: var(--fill-color);\n",
              "    }\n",
              "    60% {\n",
              "      border-color: transparent;\n",
              "      border-right-color: var(--fill-color);\n",
              "    }\n",
              "    80% {\n",
              "      border-color: transparent;\n",
              "      border-right-color: var(--fill-color);\n",
              "      border-bottom-color: var(--fill-color);\n",
              "    }\n",
              "    90% {\n",
              "      border-color: transparent;\n",
              "      border-bottom-color: var(--fill-color);\n",
              "    }\n",
              "  }\n",
              "</style>\n",
              "\n",
              "  <script>\n",
              "    async function quickchart(key) {\n",
              "      const quickchartButtonEl =\n",
              "        document.querySelector('#' + key + ' button');\n",
              "      quickchartButtonEl.disabled = true;  // To prevent multiple clicks.\n",
              "      quickchartButtonEl.classList.add('colab-df-spinner');\n",
              "      try {\n",
              "        const charts = await google.colab.kernel.invokeFunction(\n",
              "            'suggestCharts', [key], {});\n",
              "      } catch (error) {\n",
              "        console.error('Error during call to suggestCharts:', error);\n",
              "      }\n",
              "      quickchartButtonEl.classList.remove('colab-df-spinner');\n",
              "      quickchartButtonEl.classList.add('colab-df-quickchart-complete');\n",
              "    }\n",
              "    (() => {\n",
              "      let quickchartButtonEl =\n",
              "        document.querySelector('#df-2d471041-7d42-4a24-bdb8-b151f312c048 button');\n",
              "      quickchartButtonEl.style.display =\n",
              "        google.colab.kernel.accessAllowed ? 'block' : 'none';\n",
              "    })();\n",
              "  </script>\n",
              "</div>\n",
              "\n",
              "    </div>\n",
              "  </div>\n"
            ],
            "application/vnd.google.colaboratory.intrinsic+json": {
              "type": "dataframe",
              "summary": "{\n  \"name\": \"df\",\n  \"rows\": 8,\n  \"fields\": [\n    {\n      \"column\": \"Age\",\n      \"properties\": {\n        \"dtype\": \"number\",\n        \"std\": 81.26942345199373,\n        \"min\": 9.109066523898207,\n        \"max\": 270.0,\n        \"num_unique_values\": 8,\n        \"samples\": [\n          54.43333333333333,\n          55.0,\n          270.0\n        ],\n        \"semantic_type\": \"\",\n        \"description\": \"\"\n      }\n    },\n    {\n      \"column\": \"Sex\",\n      \"properties\": {\n        \"dtype\": \"number\",\n        \"std\": 95.2509293265246,\n        \"min\": 0.0,\n        \"max\": 270.0,\n        \"num_unique_values\": 5,\n        \"samples\": [\n          0.6777777777777778,\n          1.0,\n          0.46819540715526964\n        ],\n        \"semantic_type\": \"\",\n        \"description\": \"\"\n      }\n    },\n    {\n      \"column\": \"Chest pain type\",\n      \"properties\": {\n        \"dtype\": \"number\",\n        \"std\": 94.50085383847582,\n        \"min\": 0.9500900339228638,\n        \"max\": 270.0,\n        \"num_unique_values\": 6,\n        \"samples\": [\n          270.0,\n          3.174074074074074,\n          4.0\n        ],\n        \"semantic_type\": \"\",\n        \"description\": \"\"\n      }\n    },\n    {\n      \"column\": \"BP\",\n      \"properties\": {\n        \"dtype\": \"number\",\n        \"std\": 73.75001286945506,\n        \"min\": 17.861608292800856,\n        \"max\": 270.0,\n        \"num_unique_values\": 8,\n        \"samples\": [\n          131.34444444444443,\n          130.0,\n          270.0\n        ],\n        \"semantic_type\": \"\",\n        \"description\": \"\"\n      }\n    },\n    {\n      \"column\": \"Cholesterol\",\n      \"properties\": {\n        \"dtype\": \"number\",\n        \"std\": 149.28133129211267,\n        \"min\": 51.68623711643124,\n        \"max\": 564.0,\n        \"num_unique_values\": 8,\n        \"samples\": [\n          249.65925925925927,\n          245.0,\n          270.0\n        ],\n        \"semantic_type\": \"\",\n        \"description\": \"\"\n      }\n    },\n    {\n      \"column\": \"FBS over 120\",\n      \"properties\": {\n        \"dtype\": \"number\",\n        \"std\": 95.38406737093332,\n        \"min\": 0.0,\n        \"max\": 270.0,\n        \"num_unique_values\": 5,\n        \"samples\": [\n          0.14814814814814814,\n          1.0,\n          0.3559064769707314\n        ],\n        \"semantic_type\": \"\",\n        \"description\": \"\"\n      }\n    },\n    {\n      \"column\": \"EKG results\",\n      \"properties\": {\n        \"dtype\": \"number\",\n        \"std\": 95.05798440282962,\n        \"min\": 0.0,\n        \"max\": 270.0,\n        \"num_unique_values\": 5,\n        \"samples\": [\n          1.0222222222222221,\n          2.0,\n          0.9978912089661108\n        ],\n        \"semantic_type\": \"\",\n        \"description\": \"\"\n      }\n    },\n    {\n      \"column\": \"Max HR\",\n      \"properties\": {\n        \"dtype\": \"number\",\n        \"std\": 75.46429849953576,\n        \"min\": 23.165716775120096,\n        \"max\": 270.0,\n        \"num_unique_values\": 8,\n        \"samples\": [\n          149.67777777777778,\n          153.5,\n          270.0\n        ],\n        \"semantic_type\": \"\",\n        \"description\": \"\"\n      }\n    },\n    {\n      \"column\": \"Exercise angina\",\n      \"properties\": {\n        \"dtype\": \"number\",\n        \"std\": 95.31887147268549,\n        \"min\": 0.0,\n        \"max\": 270.0,\n        \"num_unique_values\": 5,\n        \"samples\": [\n          0.3296296296296296,\n          1.0,\n          0.4709515913013828\n        ],\n        \"semantic_type\": \"\",\n        \"description\": \"\"\n      }\n    },\n    {\n      \"column\": \"ST depression\",\n      \"properties\": {\n        \"dtype\": \"number\",\n        \"std\": 94.93479737767666,\n        \"min\": 0.0,\n        \"max\": 270.0,\n        \"num_unique_values\": 7,\n        \"samples\": [\n          270.0,\n          1.05,\n          1.6\n        ],\n        \"semantic_type\": \"\",\n        \"description\": \"\"\n      }\n    },\n    {\n      \"column\": \"Slope of ST\",\n      \"properties\": {\n        \"dtype\": \"number\",\n        \"std\": 94.89674099688874,\n        \"min\": 0.6143898376781299,\n        \"max\": 270.0,\n        \"num_unique_values\": 6,\n        \"samples\": [\n          270.0,\n          1.5851851851851853,\n          3.0\n        ],\n        \"semantic_type\": \"\",\n        \"description\": \"\"\n      }\n    },\n    {\n      \"column\": \"Number of vessels fluro\",\n      \"properties\": {\n        \"dtype\": \"number\",\n        \"std\": 95.18098349387779,\n        \"min\": 0.0,\n        \"max\": 270.0,\n        \"num_unique_values\": 6,\n        \"samples\": [\n          270.0,\n          0.6703703703703704,\n          3.0\n        ],\n        \"semantic_type\": \"\",\n        \"description\": \"\"\n      }\n    },\n    {\n      \"column\": \"Thallium\",\n      \"properties\": {\n        \"dtype\": \"number\",\n        \"std\": 93.9817864087276,\n        \"min\": 1.9406589693457776,\n        \"max\": 270.0,\n        \"num_unique_values\": 5,\n        \"samples\": [\n          4.696296296296296,\n          7.0,\n          1.9406589693457776\n        ],\n        \"semantic_type\": \"\",\n        \"description\": \"\"\n      }\n    }\n  ]\n}"
            }
          },
          "metadata": {},
          "execution_count": 8
        }
      ]
    },
    {
      "cell_type": "code",
      "source": [
        "df.info()"
      ],
      "metadata": {
        "colab": {
          "base_uri": "https://localhost:8080/"
        },
        "id": "y1rZmS4ks1c6",
        "outputId": "6695823e-4922-4d67-99e8-2b456834af07"
      },
      "execution_count": 9,
      "outputs": [
        {
          "output_type": "stream",
          "name": "stdout",
          "text": [
            "<class 'pandas.core.frame.DataFrame'>\n",
            "RangeIndex: 270 entries, 0 to 269\n",
            "Data columns (total 14 columns):\n",
            " #   Column                   Non-Null Count  Dtype  \n",
            "---  ------                   --------------  -----  \n",
            " 0   Age                      270 non-null    int64  \n",
            " 1   Sex                      270 non-null    int64  \n",
            " 2   Chest pain type          270 non-null    int64  \n",
            " 3   BP                       270 non-null    int64  \n",
            " 4   Cholesterol              270 non-null    int64  \n",
            " 5   FBS over 120             270 non-null    int64  \n",
            " 6   EKG results              270 non-null    int64  \n",
            " 7   Max HR                   270 non-null    int64  \n",
            " 8   Exercise angina          270 non-null    int64  \n",
            " 9   ST depression            270 non-null    float64\n",
            " 10  Slope of ST              270 non-null    int64  \n",
            " 11  Number of vessels fluro  270 non-null    int64  \n",
            " 12  Thallium                 270 non-null    int64  \n",
            " 13  Heart Disease            270 non-null    object \n",
            "dtypes: float64(1), int64(12), object(1)\n",
            "memory usage: 29.7+ KB\n"
          ]
        }
      ]
    },
    {
      "cell_type": "markdown",
      "source": [
        "# **Label Encoding the Target Column the Data**"
      ],
      "metadata": {
        "id": "8nRkrG2rulOR"
      }
    },
    {
      "cell_type": "code",
      "source": [
        "from sklearn.preprocessing import LabelEncoder\n",
        "encoder = LabelEncoder()\n",
        "df['Heart Disease'] = encoder.fit_transform(df['Heart Disease'])"
      ],
      "metadata": {
        "id": "O2bEOXcSo8Q3"
      },
      "execution_count": 10,
      "outputs": []
    },
    {
      "cell_type": "code",
      "source": [
        "df.head()"
      ],
      "metadata": {
        "colab": {
          "base_uri": "https://localhost:8080/",
          "height": 240
        },
        "id": "od_UsLR2pFoB",
        "outputId": "e58b4982-7a5e-4851-bf0b-f4dcaabb67e1"
      },
      "execution_count": 11,
      "outputs": [
        {
          "output_type": "execute_result",
          "data": {
            "text/plain": [
              "   Age  Sex  Chest pain type   BP  Cholesterol  FBS over 120  EKG results  \\\n",
              "0   70    1                4  130          322             0            2   \n",
              "1   67    0                3  115          564             0            2   \n",
              "2   57    1                2  124          261             0            0   \n",
              "3   64    1                4  128          263             0            0   \n",
              "4   74    0                2  120          269             0            2   \n",
              "\n",
              "   Max HR  Exercise angina  ST depression  Slope of ST  \\\n",
              "0     109                0            2.4            2   \n",
              "1     160                0            1.6            2   \n",
              "2     141                0            0.3            1   \n",
              "3     105                1            0.2            2   \n",
              "4     121                1            0.2            1   \n",
              "\n",
              "   Number of vessels fluro  Thallium  Heart Disease  \n",
              "0                        3         3              1  \n",
              "1                        0         7              0  \n",
              "2                        0         7              1  \n",
              "3                        1         7              0  \n",
              "4                        1         3              0  "
            ],
            "text/html": [
              "\n",
              "  <div id=\"df-158fb5e9-a556-4d7b-a1f5-fd2a1a7ec2e4\" class=\"colab-df-container\">\n",
              "    <div>\n",
              "<style scoped>\n",
              "    .dataframe tbody tr th:only-of-type {\n",
              "        vertical-align: middle;\n",
              "    }\n",
              "\n",
              "    .dataframe tbody tr th {\n",
              "        vertical-align: top;\n",
              "    }\n",
              "\n",
              "    .dataframe thead th {\n",
              "        text-align: right;\n",
              "    }\n",
              "</style>\n",
              "<table border=\"1\" class=\"dataframe\">\n",
              "  <thead>\n",
              "    <tr style=\"text-align: right;\">\n",
              "      <th></th>\n",
              "      <th>Age</th>\n",
              "      <th>Sex</th>\n",
              "      <th>Chest pain type</th>\n",
              "      <th>BP</th>\n",
              "      <th>Cholesterol</th>\n",
              "      <th>FBS over 120</th>\n",
              "      <th>EKG results</th>\n",
              "      <th>Max HR</th>\n",
              "      <th>Exercise angina</th>\n",
              "      <th>ST depression</th>\n",
              "      <th>Slope of ST</th>\n",
              "      <th>Number of vessels fluro</th>\n",
              "      <th>Thallium</th>\n",
              "      <th>Heart Disease</th>\n",
              "    </tr>\n",
              "  </thead>\n",
              "  <tbody>\n",
              "    <tr>\n",
              "      <th>0</th>\n",
              "      <td>70</td>\n",
              "      <td>1</td>\n",
              "      <td>4</td>\n",
              "      <td>130</td>\n",
              "      <td>322</td>\n",
              "      <td>0</td>\n",
              "      <td>2</td>\n",
              "      <td>109</td>\n",
              "      <td>0</td>\n",
              "      <td>2.4</td>\n",
              "      <td>2</td>\n",
              "      <td>3</td>\n",
              "      <td>3</td>\n",
              "      <td>1</td>\n",
              "    </tr>\n",
              "    <tr>\n",
              "      <th>1</th>\n",
              "      <td>67</td>\n",
              "      <td>0</td>\n",
              "      <td>3</td>\n",
              "      <td>115</td>\n",
              "      <td>564</td>\n",
              "      <td>0</td>\n",
              "      <td>2</td>\n",
              "      <td>160</td>\n",
              "      <td>0</td>\n",
              "      <td>1.6</td>\n",
              "      <td>2</td>\n",
              "      <td>0</td>\n",
              "      <td>7</td>\n",
              "      <td>0</td>\n",
              "    </tr>\n",
              "    <tr>\n",
              "      <th>2</th>\n",
              "      <td>57</td>\n",
              "      <td>1</td>\n",
              "      <td>2</td>\n",
              "      <td>124</td>\n",
              "      <td>261</td>\n",
              "      <td>0</td>\n",
              "      <td>0</td>\n",
              "      <td>141</td>\n",
              "      <td>0</td>\n",
              "      <td>0.3</td>\n",
              "      <td>1</td>\n",
              "      <td>0</td>\n",
              "      <td>7</td>\n",
              "      <td>1</td>\n",
              "    </tr>\n",
              "    <tr>\n",
              "      <th>3</th>\n",
              "      <td>64</td>\n",
              "      <td>1</td>\n",
              "      <td>4</td>\n",
              "      <td>128</td>\n",
              "      <td>263</td>\n",
              "      <td>0</td>\n",
              "      <td>0</td>\n",
              "      <td>105</td>\n",
              "      <td>1</td>\n",
              "      <td>0.2</td>\n",
              "      <td>2</td>\n",
              "      <td>1</td>\n",
              "      <td>7</td>\n",
              "      <td>0</td>\n",
              "    </tr>\n",
              "    <tr>\n",
              "      <th>4</th>\n",
              "      <td>74</td>\n",
              "      <td>0</td>\n",
              "      <td>2</td>\n",
              "      <td>120</td>\n",
              "      <td>269</td>\n",
              "      <td>0</td>\n",
              "      <td>2</td>\n",
              "      <td>121</td>\n",
              "      <td>1</td>\n",
              "      <td>0.2</td>\n",
              "      <td>1</td>\n",
              "      <td>1</td>\n",
              "      <td>3</td>\n",
              "      <td>0</td>\n",
              "    </tr>\n",
              "  </tbody>\n",
              "</table>\n",
              "</div>\n",
              "    <div class=\"colab-df-buttons\">\n",
              "\n",
              "  <div class=\"colab-df-container\">\n",
              "    <button class=\"colab-df-convert\" onclick=\"convertToInteractive('df-158fb5e9-a556-4d7b-a1f5-fd2a1a7ec2e4')\"\n",
              "            title=\"Convert this dataframe to an interactive table.\"\n",
              "            style=\"display:none;\">\n",
              "\n",
              "  <svg xmlns=\"http://www.w3.org/2000/svg\" height=\"24px\" viewBox=\"0 -960 960 960\">\n",
              "    <path d=\"M120-120v-720h720v720H120Zm60-500h600v-160H180v160Zm220 220h160v-160H400v160Zm0 220h160v-160H400v160ZM180-400h160v-160H180v160Zm440 0h160v-160H620v160ZM180-180h160v-160H180v160Zm440 0h160v-160H620v160Z\"/>\n",
              "  </svg>\n",
              "    </button>\n",
              "\n",
              "  <style>\n",
              "    .colab-df-container {\n",
              "      display:flex;\n",
              "      gap: 12px;\n",
              "    }\n",
              "\n",
              "    .colab-df-convert {\n",
              "      background-color: #E8F0FE;\n",
              "      border: none;\n",
              "      border-radius: 50%;\n",
              "      cursor: pointer;\n",
              "      display: none;\n",
              "      fill: #1967D2;\n",
              "      height: 32px;\n",
              "      padding: 0 0 0 0;\n",
              "      width: 32px;\n",
              "    }\n",
              "\n",
              "    .colab-df-convert:hover {\n",
              "      background-color: #E2EBFA;\n",
              "      box-shadow: 0px 1px 2px rgba(60, 64, 67, 0.3), 0px 1px 3px 1px rgba(60, 64, 67, 0.15);\n",
              "      fill: #174EA6;\n",
              "    }\n",
              "\n",
              "    .colab-df-buttons div {\n",
              "      margin-bottom: 4px;\n",
              "    }\n",
              "\n",
              "    [theme=dark] .colab-df-convert {\n",
              "      background-color: #3B4455;\n",
              "      fill: #D2E3FC;\n",
              "    }\n",
              "\n",
              "    [theme=dark] .colab-df-convert:hover {\n",
              "      background-color: #434B5C;\n",
              "      box-shadow: 0px 1px 3px 1px rgba(0, 0, 0, 0.15);\n",
              "      filter: drop-shadow(0px 1px 2px rgba(0, 0, 0, 0.3));\n",
              "      fill: #FFFFFF;\n",
              "    }\n",
              "  </style>\n",
              "\n",
              "    <script>\n",
              "      const buttonEl =\n",
              "        document.querySelector('#df-158fb5e9-a556-4d7b-a1f5-fd2a1a7ec2e4 button.colab-df-convert');\n",
              "      buttonEl.style.display =\n",
              "        google.colab.kernel.accessAllowed ? 'block' : 'none';\n",
              "\n",
              "      async function convertToInteractive(key) {\n",
              "        const element = document.querySelector('#df-158fb5e9-a556-4d7b-a1f5-fd2a1a7ec2e4');\n",
              "        const dataTable =\n",
              "          await google.colab.kernel.invokeFunction('convertToInteractive',\n",
              "                                                    [key], {});\n",
              "        if (!dataTable) return;\n",
              "\n",
              "        const docLinkHtml = 'Like what you see? Visit the ' +\n",
              "          '<a target=\"_blank\" href=https://colab.research.google.com/notebooks/data_table.ipynb>data table notebook</a>'\n",
              "          + ' to learn more about interactive tables.';\n",
              "        element.innerHTML = '';\n",
              "        dataTable['output_type'] = 'display_data';\n",
              "        await google.colab.output.renderOutput(dataTable, element);\n",
              "        const docLink = document.createElement('div');\n",
              "        docLink.innerHTML = docLinkHtml;\n",
              "        element.appendChild(docLink);\n",
              "      }\n",
              "    </script>\n",
              "  </div>\n",
              "\n",
              "\n",
              "<div id=\"df-3e4588c5-fdcc-4213-83e0-b8746abc12b5\">\n",
              "  <button class=\"colab-df-quickchart\" onclick=\"quickchart('df-3e4588c5-fdcc-4213-83e0-b8746abc12b5')\"\n",
              "            title=\"Suggest charts\"\n",
              "            style=\"display:none;\">\n",
              "\n",
              "<svg xmlns=\"http://www.w3.org/2000/svg\" height=\"24px\"viewBox=\"0 0 24 24\"\n",
              "     width=\"24px\">\n",
              "    <g>\n",
              "        <path d=\"M19 3H5c-1.1 0-2 .9-2 2v14c0 1.1.9 2 2 2h14c1.1 0 2-.9 2-2V5c0-1.1-.9-2-2-2zM9 17H7v-7h2v7zm4 0h-2V7h2v10zm4 0h-2v-4h2v4z\"/>\n",
              "    </g>\n",
              "</svg>\n",
              "  </button>\n",
              "\n",
              "<style>\n",
              "  .colab-df-quickchart {\n",
              "      --bg-color: #E8F0FE;\n",
              "      --fill-color: #1967D2;\n",
              "      --hover-bg-color: #E2EBFA;\n",
              "      --hover-fill-color: #174EA6;\n",
              "      --disabled-fill-color: #AAA;\n",
              "      --disabled-bg-color: #DDD;\n",
              "  }\n",
              "\n",
              "  [theme=dark] .colab-df-quickchart {\n",
              "      --bg-color: #3B4455;\n",
              "      --fill-color: #D2E3FC;\n",
              "      --hover-bg-color: #434B5C;\n",
              "      --hover-fill-color: #FFFFFF;\n",
              "      --disabled-bg-color: #3B4455;\n",
              "      --disabled-fill-color: #666;\n",
              "  }\n",
              "\n",
              "  .colab-df-quickchart {\n",
              "    background-color: var(--bg-color);\n",
              "    border: none;\n",
              "    border-radius: 50%;\n",
              "    cursor: pointer;\n",
              "    display: none;\n",
              "    fill: var(--fill-color);\n",
              "    height: 32px;\n",
              "    padding: 0;\n",
              "    width: 32px;\n",
              "  }\n",
              "\n",
              "  .colab-df-quickchart:hover {\n",
              "    background-color: var(--hover-bg-color);\n",
              "    box-shadow: 0 1px 2px rgba(60, 64, 67, 0.3), 0 1px 3px 1px rgba(60, 64, 67, 0.15);\n",
              "    fill: var(--button-hover-fill-color);\n",
              "  }\n",
              "\n",
              "  .colab-df-quickchart-complete:disabled,\n",
              "  .colab-df-quickchart-complete:disabled:hover {\n",
              "    background-color: var(--disabled-bg-color);\n",
              "    fill: var(--disabled-fill-color);\n",
              "    box-shadow: none;\n",
              "  }\n",
              "\n",
              "  .colab-df-spinner {\n",
              "    border: 2px solid var(--fill-color);\n",
              "    border-color: transparent;\n",
              "    border-bottom-color: var(--fill-color);\n",
              "    animation:\n",
              "      spin 1s steps(1) infinite;\n",
              "  }\n",
              "\n",
              "  @keyframes spin {\n",
              "    0% {\n",
              "      border-color: transparent;\n",
              "      border-bottom-color: var(--fill-color);\n",
              "      border-left-color: var(--fill-color);\n",
              "    }\n",
              "    20% {\n",
              "      border-color: transparent;\n",
              "      border-left-color: var(--fill-color);\n",
              "      border-top-color: var(--fill-color);\n",
              "    }\n",
              "    30% {\n",
              "      border-color: transparent;\n",
              "      border-left-color: var(--fill-color);\n",
              "      border-top-color: var(--fill-color);\n",
              "      border-right-color: var(--fill-color);\n",
              "    }\n",
              "    40% {\n",
              "      border-color: transparent;\n",
              "      border-right-color: var(--fill-color);\n",
              "      border-top-color: var(--fill-color);\n",
              "    }\n",
              "    60% {\n",
              "      border-color: transparent;\n",
              "      border-right-color: var(--fill-color);\n",
              "    }\n",
              "    80% {\n",
              "      border-color: transparent;\n",
              "      border-right-color: var(--fill-color);\n",
              "      border-bottom-color: var(--fill-color);\n",
              "    }\n",
              "    90% {\n",
              "      border-color: transparent;\n",
              "      border-bottom-color: var(--fill-color);\n",
              "    }\n",
              "  }\n",
              "</style>\n",
              "\n",
              "  <script>\n",
              "    async function quickchart(key) {\n",
              "      const quickchartButtonEl =\n",
              "        document.querySelector('#' + key + ' button');\n",
              "      quickchartButtonEl.disabled = true;  // To prevent multiple clicks.\n",
              "      quickchartButtonEl.classList.add('colab-df-spinner');\n",
              "      try {\n",
              "        const charts = await google.colab.kernel.invokeFunction(\n",
              "            'suggestCharts', [key], {});\n",
              "      } catch (error) {\n",
              "        console.error('Error during call to suggestCharts:', error);\n",
              "      }\n",
              "      quickchartButtonEl.classList.remove('colab-df-spinner');\n",
              "      quickchartButtonEl.classList.add('colab-df-quickchart-complete');\n",
              "    }\n",
              "    (() => {\n",
              "      let quickchartButtonEl =\n",
              "        document.querySelector('#df-3e4588c5-fdcc-4213-83e0-b8746abc12b5 button');\n",
              "      quickchartButtonEl.style.display =\n",
              "        google.colab.kernel.accessAllowed ? 'block' : 'none';\n",
              "    })();\n",
              "  </script>\n",
              "</div>\n",
              "\n",
              "    </div>\n",
              "  </div>\n"
            ],
            "application/vnd.google.colaboratory.intrinsic+json": {
              "type": "dataframe",
              "variable_name": "df",
              "summary": "{\n  \"name\": \"df\",\n  \"rows\": 270,\n  \"fields\": [\n    {\n      \"column\": \"Age\",\n      \"properties\": {\n        \"dtype\": \"number\",\n        \"std\": 9,\n        \"min\": 29,\n        \"max\": 77,\n        \"num_unique_values\": 41,\n        \"samples\": [\n          50,\n          71,\n          60\n        ],\n        \"semantic_type\": \"\",\n        \"description\": \"\"\n      }\n    },\n    {\n      \"column\": \"Sex\",\n      \"properties\": {\n        \"dtype\": \"number\",\n        \"std\": 0,\n        \"min\": 0,\n        \"max\": 1,\n        \"num_unique_values\": 2,\n        \"samples\": [\n          0,\n          1\n        ],\n        \"semantic_type\": \"\",\n        \"description\": \"\"\n      }\n    },\n    {\n      \"column\": \"Chest pain type\",\n      \"properties\": {\n        \"dtype\": \"number\",\n        \"std\": 0,\n        \"min\": 1,\n        \"max\": 4,\n        \"num_unique_values\": 4,\n        \"samples\": [\n          3,\n          1\n        ],\n        \"semantic_type\": \"\",\n        \"description\": \"\"\n      }\n    },\n    {\n      \"column\": \"BP\",\n      \"properties\": {\n        \"dtype\": \"number\",\n        \"std\": 17,\n        \"min\": 94,\n        \"max\": 200,\n        \"num_unique_values\": 47,\n        \"samples\": [\n          156,\n          200\n        ],\n        \"semantic_type\": \"\",\n        \"description\": \"\"\n      }\n    },\n    {\n      \"column\": \"Cholesterol\",\n      \"properties\": {\n        \"dtype\": \"number\",\n        \"std\": 51,\n        \"min\": 126,\n        \"max\": 564,\n        \"num_unique_values\": 144,\n        \"samples\": [\n          255,\n          229\n        ],\n        \"semantic_type\": \"\",\n        \"description\": \"\"\n      }\n    },\n    {\n      \"column\": \"FBS over 120\",\n      \"properties\": {\n        \"dtype\": \"number\",\n        \"std\": 0,\n        \"min\": 0,\n        \"max\": 1,\n        \"num_unique_values\": 2,\n        \"samples\": [\n          1,\n          0\n        ],\n        \"semantic_type\": \"\",\n        \"description\": \"\"\n      }\n    },\n    {\n      \"column\": \"EKG results\",\n      \"properties\": {\n        \"dtype\": \"number\",\n        \"std\": 0,\n        \"min\": 0,\n        \"max\": 2,\n        \"num_unique_values\": 3,\n        \"samples\": [\n          2,\n          0\n        ],\n        \"semantic_type\": \"\",\n        \"description\": \"\"\n      }\n    },\n    {\n      \"column\": \"Max HR\",\n      \"properties\": {\n        \"dtype\": \"number\",\n        \"std\": 23,\n        \"min\": 71,\n        \"max\": 202,\n        \"num_unique_values\": 90,\n        \"samples\": [\n          96,\n          139\n        ],\n        \"semantic_type\": \"\",\n        \"description\": \"\"\n      }\n    },\n    {\n      \"column\": \"Exercise angina\",\n      \"properties\": {\n        \"dtype\": \"number\",\n        \"std\": 0,\n        \"min\": 0,\n        \"max\": 1,\n        \"num_unique_values\": 2,\n        \"samples\": [\n          1,\n          0\n        ],\n        \"semantic_type\": \"\",\n        \"description\": \"\"\n      }\n    },\n    {\n      \"column\": \"ST depression\",\n      \"properties\": {\n        \"dtype\": \"number\",\n        \"std\": 1.1452098393779973,\n        \"min\": 0.0,\n        \"max\": 6.2,\n        \"num_unique_values\": 39,\n        \"samples\": [\n          2.1,\n          3.5\n        ],\n        \"semantic_type\": \"\",\n        \"description\": \"\"\n      }\n    },\n    {\n      \"column\": \"Slope of ST\",\n      \"properties\": {\n        \"dtype\": \"number\",\n        \"std\": 0,\n        \"min\": 1,\n        \"max\": 3,\n        \"num_unique_values\": 3,\n        \"samples\": [\n          2,\n          1\n        ],\n        \"semantic_type\": \"\",\n        \"description\": \"\"\n      }\n    },\n    {\n      \"column\": \"Number of vessels fluro\",\n      \"properties\": {\n        \"dtype\": \"number\",\n        \"std\": 0,\n        \"min\": 0,\n        \"max\": 3,\n        \"num_unique_values\": 4,\n        \"samples\": [\n          0,\n          2\n        ],\n        \"semantic_type\": \"\",\n        \"description\": \"\"\n      }\n    },\n    {\n      \"column\": \"Thallium\",\n      \"properties\": {\n        \"dtype\": \"number\",\n        \"std\": 1,\n        \"min\": 3,\n        \"max\": 7,\n        \"num_unique_values\": 3,\n        \"samples\": [\n          3,\n          7\n        ],\n        \"semantic_type\": \"\",\n        \"description\": \"\"\n      }\n    },\n    {\n      \"column\": \"Heart Disease\",\n      \"properties\": {\n        \"dtype\": \"number\",\n        \"std\": 0,\n        \"min\": 0,\n        \"max\": 1,\n        \"num_unique_values\": 2,\n        \"samples\": [\n          0,\n          1\n        ],\n        \"semantic_type\": \"\",\n        \"description\": \"\"\n      }\n    }\n  ]\n}"
            }
          },
          "metadata": {},
          "execution_count": 11
        }
      ]
    },
    {
      "cell_type": "markdown",
      "source": [
        "# **Normalizing the Data using Standard Scaler**"
      ],
      "metadata": {
        "id": "h8v8P6Zauwxo"
      }
    },
    {
      "cell_type": "code",
      "source": [
        "from sklearn.preprocessing import StandardScaler\n",
        "scaler = StandardScaler()\n",
        "newdf = scaler.fit_transform(df.drop('Heart Disease', axis=1))"
      ],
      "metadata": {
        "id": "taqqm3uBtJX6"
      },
      "execution_count": 12,
      "outputs": []
    },
    {
      "cell_type": "code",
      "source": [
        "newdf.shape"
      ],
      "metadata": {
        "colab": {
          "base_uri": "https://localhost:8080/"
        },
        "id": "jk33hrURpYZF",
        "outputId": "392c5519-c02f-4f5e-9e1d-8ed1604dc2b1"
      },
      "execution_count": 13,
      "outputs": [
        {
          "output_type": "execute_result",
          "data": {
            "text/plain": [
              "(270, 13)"
            ]
          },
          "metadata": {},
          "execution_count": 13
        }
      ]
    },
    {
      "cell_type": "code",
      "source": [
        "from sklearn.model_selection import train_test_split\n",
        "X_train, X_test, y_train, y_test = train_test_split(newdf, df['Heart Disease'], test_size = 0.2,random_state=1)"
      ],
      "metadata": {
        "id": "0n663o3Uoj50"
      },
      "execution_count": 75,
      "outputs": []
    },
    {
      "cell_type": "code",
      "source": [
        "X_train.shape, X_test.shape, y_train.shape, y_test.shape"
      ],
      "metadata": {
        "colab": {
          "base_uri": "https://localhost:8080/"
        },
        "id": "TGonhdGCoYmb",
        "outputId": "f11f397f-aa12-48bb-a437-a83998187ee6"
      },
      "execution_count": 76,
      "outputs": [
        {
          "output_type": "execute_result",
          "data": {
            "text/plain": [
              "((216, 13), (54, 13), (216,), (54,))"
            ]
          },
          "metadata": {},
          "execution_count": 76
        }
      ]
    },
    {
      "cell_type": "code",
      "source": [
        "import tensorflow\n",
        "from tensorflow.keras.layers import Dense, Dropout\n",
        "from tensorflow.keras.models import Sequential\n",
        "from tensorflow.keras.optimizers import Adam"
      ],
      "metadata": {
        "id": "hfUZB7ennTsz"
      },
      "execution_count": 16,
      "outputs": []
    },
    {
      "cell_type": "markdown",
      "source": [
        "# **Early Stopping**"
      ],
      "metadata": {
        "id": "pE-row3ys8X_"
      }
    },
    {
      "cell_type": "code",
      "source": [
        "from tensorflow.keras.callbacks import EarlyStopping\n",
        "callback = EarlyStopping(\n",
        "    monitor = \"val_loss\",\n",
        "    min_delta = 0.00001,\n",
        "    patience = 20,\n",
        "    verbose = 1,\n",
        "    mode='auto',\n",
        "    baseline = None,\n",
        "    restore_best_weights = None\n",
        ")"
      ],
      "metadata": {
        "id": "3Lr3ykuCwPuC"
      },
      "execution_count": 77,
      "outputs": []
    },
    {
      "cell_type": "markdown",
      "source": [
        "# **Model with regularization and without Hyperparameter Tunning**"
      ],
      "metadata": {
        "id": "K9ctsFjmtDFJ"
      }
    },
    {
      "cell_type": "code",
      "source": [
        "model = Sequential()\n",
        "model.add(Dense(32, input_shape=(13,), activation = 'relu', kernel_regularizer = tensorflow.keras.regularizers.l2(.001)))\n",
        "model.add(Dropout(0.5))\n",
        "model.add(Dense(16, input_shape=(13,), activation = 'relu', kernel_regularizer = tensorflow.keras.regularizers.l2(.001)))\n",
        "model.add(Dropout(0.5))\n",
        "model.add(Dense(16, input_shape=(13,), activation = 'relu', kernel_regularizer = tensorflow.keras.regularizers.l2(.001)))\n",
        "model.add(Dropout(0.5))\n",
        "model.add(Dense(8, input_shape=(13,), activation = 'relu', kernel_regularizer = tensorflow.keras.regularizers.l2(.001)))\n",
        "model.add(Dense(1, activation = 'sigmoid'))"
      ],
      "metadata": {
        "id": "EjB4DkC2neN-"
      },
      "execution_count": 78,
      "outputs": []
    },
    {
      "cell_type": "code",
      "source": [
        "model.summary()"
      ],
      "metadata": {
        "colab": {
          "base_uri": "https://localhost:8080/"
        },
        "id": "X_LUJ_C4qdml",
        "outputId": "e989e45c-8aa1-43b6-c150-568e14b659cc"
      },
      "execution_count": 19,
      "outputs": [
        {
          "output_type": "stream",
          "name": "stdout",
          "text": [
            "Model: \"sequential\"\n",
            "_________________________________________________________________\n",
            " Layer (type)                Output Shape              Param #   \n",
            "=================================================================\n",
            " dense (Dense)               (None, 32)                448       \n",
            "                                                                 \n",
            " dropout (Dropout)           (None, 32)                0         \n",
            "                                                                 \n",
            " dense_1 (Dense)             (None, 16)                528       \n",
            "                                                                 \n",
            " dropout_1 (Dropout)         (None, 16)                0         \n",
            "                                                                 \n",
            " dense_2 (Dense)             (None, 16)                272       \n",
            "                                                                 \n",
            " dropout_2 (Dropout)         (None, 16)                0         \n",
            "                                                                 \n",
            " dense_3 (Dense)             (None, 8)                 136       \n",
            "                                                                 \n",
            " dense_4 (Dense)             (None, 1)                 9         \n",
            "                                                                 \n",
            "=================================================================\n",
            "Total params: 1393 (5.44 KB)\n",
            "Trainable params: 1393 (5.44 KB)\n",
            "Non-trainable params: 0 (0.00 Byte)\n",
            "_________________________________________________________________\n"
          ]
        }
      ]
    },
    {
      "cell_type": "code",
      "source": [
        "adam = Adam(learning_rate =0.01)\n",
        "model.compile(optimizer = adam, loss = 'binary_crossentropy', metrics = ['accuracy'])"
      ],
      "metadata": {
        "id": "8rY-nQDyqj83"
      },
      "execution_count": 79,
      "outputs": []
    },
    {
      "cell_type": "code",
      "source": [
        "history = model.fit(X_train , y_train, epochs=500, validation_split = 0.2, verbose=1, callbacks = callback, validation_data=(X_test, y_test))"
      ],
      "metadata": {
        "colab": {
          "base_uri": "https://localhost:8080/"
        },
        "id": "8b1e8R5TrAM0",
        "outputId": "3819a976-6dc6-4eb1-9490-23aca1d3319a"
      },
      "execution_count": 80,
      "outputs": [
        {
          "output_type": "stream",
          "name": "stdout",
          "text": [
            "Epoch 1/500\n",
            "7/7 [==============================] - 2s 37ms/step - loss: 0.8535 - accuracy: 0.5231 - val_loss: 0.7551 - val_accuracy: 0.5000\n",
            "Epoch 2/500\n",
            "7/7 [==============================] - 0s 8ms/step - loss: 0.7463 - accuracy: 0.5417 - val_loss: 0.7427 - val_accuracy: 0.5926\n",
            "Epoch 3/500\n",
            "7/7 [==============================] - 0s 9ms/step - loss: 0.7113 - accuracy: 0.6157 - val_loss: 0.6918 - val_accuracy: 0.7593\n",
            "Epoch 4/500\n",
            "7/7 [==============================] - 0s 11ms/step - loss: 0.7189 - accuracy: 0.5926 - val_loss: 0.6469 - val_accuracy: 0.7963\n",
            "Epoch 5/500\n",
            "7/7 [==============================] - 0s 9ms/step - loss: 0.6896 - accuracy: 0.6157 - val_loss: 0.6321 - val_accuracy: 0.7778\n",
            "Epoch 6/500\n",
            "7/7 [==============================] - 0s 8ms/step - loss: 0.6788 - accuracy: 0.6204 - val_loss: 0.6474 - val_accuracy: 0.7778\n",
            "Epoch 7/500\n",
            "7/7 [==============================] - 0s 11ms/step - loss: 0.6477 - accuracy: 0.6713 - val_loss: 0.6266 - val_accuracy: 0.7593\n",
            "Epoch 8/500\n",
            "7/7 [==============================] - 0s 8ms/step - loss: 0.6004 - accuracy: 0.7500 - val_loss: 0.5670 - val_accuracy: 0.7963\n",
            "Epoch 9/500\n",
            "7/7 [==============================] - 0s 11ms/step - loss: 0.5850 - accuracy: 0.7639 - val_loss: 0.5094 - val_accuracy: 0.8333\n",
            "Epoch 10/500\n",
            "7/7 [==============================] - 0s 8ms/step - loss: 0.5725 - accuracy: 0.7269 - val_loss: 0.4843 - val_accuracy: 0.8148\n",
            "Epoch 11/500\n",
            "7/7 [==============================] - 0s 8ms/step - loss: 0.5943 - accuracy: 0.7778 - val_loss: 0.4581 - val_accuracy: 0.8519\n",
            "Epoch 12/500\n",
            "7/7 [==============================] - 0s 11ms/step - loss: 0.5648 - accuracy: 0.7593 - val_loss: 0.4473 - val_accuracy: 0.8519\n",
            "Epoch 13/500\n",
            "7/7 [==============================] - 0s 8ms/step - loss: 0.5091 - accuracy: 0.8009 - val_loss: 0.4309 - val_accuracy: 0.8333\n",
            "Epoch 14/500\n",
            "7/7 [==============================] - 0s 12ms/step - loss: 0.4800 - accuracy: 0.8148 - val_loss: 0.4278 - val_accuracy: 0.8519\n",
            "Epoch 15/500\n",
            "7/7 [==============================] - 0s 10ms/step - loss: 0.4932 - accuracy: 0.8148 - val_loss: 0.4224 - val_accuracy: 0.8519\n",
            "Epoch 16/500\n",
            "7/7 [==============================] - 0s 13ms/step - loss: 0.5083 - accuracy: 0.8380 - val_loss: 0.4089 - val_accuracy: 0.8519\n",
            "Epoch 17/500\n",
            "7/7 [==============================] - 0s 12ms/step - loss: 0.5639 - accuracy: 0.8009 - val_loss: 0.4448 - val_accuracy: 0.8519\n",
            "Epoch 18/500\n",
            "7/7 [==============================] - 0s 8ms/step - loss: 0.4763 - accuracy: 0.8148 - val_loss: 0.4261 - val_accuracy: 0.8519\n",
            "Epoch 19/500\n",
            "7/7 [==============================] - 0s 11ms/step - loss: 0.4690 - accuracy: 0.8565 - val_loss: 0.4102 - val_accuracy: 0.8519\n",
            "Epoch 20/500\n",
            "7/7 [==============================] - 0s 9ms/step - loss: 0.5006 - accuracy: 0.8056 - val_loss: 0.4103 - val_accuracy: 0.8519\n",
            "Epoch 21/500\n",
            "7/7 [==============================] - 0s 11ms/step - loss: 0.4802 - accuracy: 0.8241 - val_loss: 0.4281 - val_accuracy: 0.8519\n",
            "Epoch 22/500\n",
            "7/7 [==============================] - 0s 11ms/step - loss: 0.4580 - accuracy: 0.8148 - val_loss: 0.4377 - val_accuracy: 0.8333\n",
            "Epoch 23/500\n",
            "7/7 [==============================] - 0s 11ms/step - loss: 0.4562 - accuracy: 0.8426 - val_loss: 0.4028 - val_accuracy: 0.8333\n",
            "Epoch 24/500\n",
            "7/7 [==============================] - 0s 11ms/step - loss: 0.4344 - accuracy: 0.8426 - val_loss: 0.4143 - val_accuracy: 0.8333\n",
            "Epoch 25/500\n",
            "7/7 [==============================] - 0s 9ms/step - loss: 0.4490 - accuracy: 0.8241 - val_loss: 0.4152 - val_accuracy: 0.8148\n",
            "Epoch 26/500\n",
            "7/7 [==============================] - 0s 12ms/step - loss: 0.4404 - accuracy: 0.8287 - val_loss: 0.4114 - val_accuracy: 0.8148\n",
            "Epoch 27/500\n",
            "7/7 [==============================] - 0s 13ms/step - loss: 0.4205 - accuracy: 0.8472 - val_loss: 0.4061 - val_accuracy: 0.8148\n",
            "Epoch 28/500\n",
            "7/7 [==============================] - 0s 10ms/step - loss: 0.4038 - accuracy: 0.8333 - val_loss: 0.4079 - val_accuracy: 0.8148\n",
            "Epoch 29/500\n",
            "7/7 [==============================] - 0s 12ms/step - loss: 0.4448 - accuracy: 0.8796 - val_loss: 0.4059 - val_accuracy: 0.8333\n",
            "Epoch 30/500\n",
            "7/7 [==============================] - 0s 11ms/step - loss: 0.3907 - accuracy: 0.8704 - val_loss: 0.3976 - val_accuracy: 0.8333\n",
            "Epoch 31/500\n",
            "7/7 [==============================] - 0s 9ms/step - loss: 0.3942 - accuracy: 0.8657 - val_loss: 0.3947 - val_accuracy: 0.8333\n",
            "Epoch 32/500\n",
            "7/7 [==============================] - 0s 9ms/step - loss: 0.4059 - accuracy: 0.8472 - val_loss: 0.3937 - val_accuracy: 0.8519\n",
            "Epoch 33/500\n",
            "7/7 [==============================] - 0s 8ms/step - loss: 0.3790 - accuracy: 0.8796 - val_loss: 0.3936 - val_accuracy: 0.8519\n",
            "Epoch 34/500\n",
            "7/7 [==============================] - 0s 11ms/step - loss: 0.4075 - accuracy: 0.8704 - val_loss: 0.4007 - val_accuracy: 0.8519\n",
            "Epoch 35/500\n",
            "7/7 [==============================] - 0s 11ms/step - loss: 0.3581 - accuracy: 0.8889 - val_loss: 0.4131 - val_accuracy: 0.8333\n",
            "Epoch 36/500\n",
            "7/7 [==============================] - 0s 11ms/step - loss: 0.3854 - accuracy: 0.8843 - val_loss: 0.4028 - val_accuracy: 0.8333\n",
            "Epoch 37/500\n",
            "7/7 [==============================] - 0s 12ms/step - loss: 0.3507 - accuracy: 0.8796 - val_loss: 0.3935 - val_accuracy: 0.8333\n",
            "Epoch 38/500\n",
            "7/7 [==============================] - 0s 8ms/step - loss: 0.3428 - accuracy: 0.8704 - val_loss: 0.3920 - val_accuracy: 0.8519\n",
            "Epoch 39/500\n",
            "7/7 [==============================] - 0s 12ms/step - loss: 0.3953 - accuracy: 0.8750 - val_loss: 0.3932 - val_accuracy: 0.8519\n",
            "Epoch 40/500\n",
            "7/7 [==============================] - 0s 11ms/step - loss: 0.3204 - accuracy: 0.8935 - val_loss: 0.4012 - val_accuracy: 0.8519\n",
            "Epoch 41/500\n",
            "7/7 [==============================] - 0s 12ms/step - loss: 0.3678 - accuracy: 0.8889 - val_loss: 0.4096 - val_accuracy: 0.8519\n",
            "Epoch 42/500\n",
            "7/7 [==============================] - 0s 10ms/step - loss: 0.3332 - accuracy: 0.8889 - val_loss: 0.4060 - val_accuracy: 0.8519\n",
            "Epoch 43/500\n",
            "7/7 [==============================] - 0s 8ms/step - loss: 0.3698 - accuracy: 0.8981 - val_loss: 0.3966 - val_accuracy: 0.8519\n",
            "Epoch 44/500\n",
            "7/7 [==============================] - 0s 12ms/step - loss: 0.3838 - accuracy: 0.8704 - val_loss: 0.3898 - val_accuracy: 0.8333\n",
            "Epoch 45/500\n",
            "7/7 [==============================] - 0s 9ms/step - loss: 0.3804 - accuracy: 0.8704 - val_loss: 0.3861 - val_accuracy: 0.8519\n",
            "Epoch 46/500\n",
            "7/7 [==============================] - 0s 11ms/step - loss: 0.3517 - accuracy: 0.9028 - val_loss: 0.3926 - val_accuracy: 0.8519\n",
            "Epoch 47/500\n",
            "7/7 [==============================] - 0s 11ms/step - loss: 0.3441 - accuracy: 0.9028 - val_loss: 0.4074 - val_accuracy: 0.8519\n",
            "Epoch 48/500\n",
            "7/7 [==============================] - 0s 11ms/step - loss: 0.3262 - accuracy: 0.8889 - val_loss: 0.3965 - val_accuracy: 0.8333\n",
            "Epoch 49/500\n",
            "7/7 [==============================] - 0s 11ms/step - loss: 0.3861 - accuracy: 0.9074 - val_loss: 0.3921 - val_accuracy: 0.8333\n",
            "Epoch 50/500\n",
            "7/7 [==============================] - 0s 8ms/step - loss: 0.3306 - accuracy: 0.8935 - val_loss: 0.3905 - val_accuracy: 0.8333\n",
            "Epoch 51/500\n",
            "7/7 [==============================] - 0s 8ms/step - loss: 0.3544 - accuracy: 0.8843 - val_loss: 0.3990 - val_accuracy: 0.8148\n",
            "Epoch 52/500\n",
            "7/7 [==============================] - 0s 10ms/step - loss: 0.3383 - accuracy: 0.8750 - val_loss: 0.4112 - val_accuracy: 0.8148\n",
            "Epoch 53/500\n",
            "7/7 [==============================] - 0s 12ms/step - loss: 0.3312 - accuracy: 0.8981 - val_loss: 0.4083 - val_accuracy: 0.8519\n",
            "Epoch 54/500\n",
            "7/7 [==============================] - 0s 10ms/step - loss: 0.3286 - accuracy: 0.8796 - val_loss: 0.4086 - val_accuracy: 0.8333\n",
            "Epoch 55/500\n",
            "7/7 [==============================] - 0s 12ms/step - loss: 0.3965 - accuracy: 0.8611 - val_loss: 0.4133 - val_accuracy: 0.8148\n",
            "Epoch 56/500\n",
            "7/7 [==============================] - 0s 12ms/step - loss: 0.3749 - accuracy: 0.8935 - val_loss: 0.4074 - val_accuracy: 0.8333\n",
            "Epoch 57/500\n",
            "7/7 [==============================] - 0s 11ms/step - loss: 0.3426 - accuracy: 0.8843 - val_loss: 0.4070 - val_accuracy: 0.8333\n",
            "Epoch 58/500\n",
            "7/7 [==============================] - 0s 11ms/step - loss: 0.3360 - accuracy: 0.8750 - val_loss: 0.4083 - val_accuracy: 0.8333\n",
            "Epoch 59/500\n",
            "7/7 [==============================] - 0s 11ms/step - loss: 0.3332 - accuracy: 0.9028 - val_loss: 0.4077 - val_accuracy: 0.8333\n",
            "Epoch 60/500\n",
            "7/7 [==============================] - 0s 11ms/step - loss: 0.3814 - accuracy: 0.8935 - val_loss: 0.3908 - val_accuracy: 0.8333\n",
            "Epoch 61/500\n",
            "7/7 [==============================] - 0s 11ms/step - loss: 0.3964 - accuracy: 0.8796 - val_loss: 0.4023 - val_accuracy: 0.8148\n",
            "Epoch 62/500\n",
            "7/7 [==============================] - 0s 9ms/step - loss: 0.3582 - accuracy: 0.8935 - val_loss: 0.4081 - val_accuracy: 0.8519\n",
            "Epoch 63/500\n",
            "7/7 [==============================] - 0s 12ms/step - loss: 0.3420 - accuracy: 0.8935 - val_loss: 0.3957 - val_accuracy: 0.8333\n",
            "Epoch 64/500\n",
            "7/7 [==============================] - 0s 9ms/step - loss: 0.3440 - accuracy: 0.8889 - val_loss: 0.3828 - val_accuracy: 0.8519\n",
            "Epoch 65/500\n",
            "7/7 [==============================] - 0s 8ms/step - loss: 0.3432 - accuracy: 0.9028 - val_loss: 0.3713 - val_accuracy: 0.8704\n",
            "Epoch 66/500\n",
            "7/7 [==============================] - 0s 11ms/step - loss: 0.3598 - accuracy: 0.8889 - val_loss: 0.3733 - val_accuracy: 0.8704\n",
            "Epoch 67/500\n",
            "7/7 [==============================] - 0s 16ms/step - loss: 0.3412 - accuracy: 0.8981 - val_loss: 0.3738 - val_accuracy: 0.8519\n",
            "Epoch 68/500\n",
            "7/7 [==============================] - 0s 17ms/step - loss: 0.2806 - accuracy: 0.9167 - val_loss: 0.3753 - val_accuracy: 0.8704\n",
            "Epoch 69/500\n",
            "7/7 [==============================] - 0s 16ms/step - loss: 0.3102 - accuracy: 0.8935 - val_loss: 0.3734 - val_accuracy: 0.8704\n",
            "Epoch 70/500\n",
            "7/7 [==============================] - 0s 16ms/step - loss: 0.3710 - accuracy: 0.8843 - val_loss: 0.3773 - val_accuracy: 0.8704\n",
            "Epoch 71/500\n",
            "7/7 [==============================] - 0s 15ms/step - loss: 0.3453 - accuracy: 0.8981 - val_loss: 0.3777 - val_accuracy: 0.8704\n",
            "Epoch 72/500\n",
            "7/7 [==============================] - 0s 14ms/step - loss: 0.3077 - accuracy: 0.9074 - val_loss: 0.3777 - val_accuracy: 0.8519\n",
            "Epoch 73/500\n",
            "7/7 [==============================] - 0s 14ms/step - loss: 0.3230 - accuracy: 0.8981 - val_loss: 0.3741 - val_accuracy: 0.8704\n",
            "Epoch 74/500\n",
            "7/7 [==============================] - 0s 13ms/step - loss: 0.3452 - accuracy: 0.8750 - val_loss: 0.3800 - val_accuracy: 0.8704\n",
            "Epoch 75/500\n",
            "7/7 [==============================] - 0s 14ms/step - loss: 0.3102 - accuracy: 0.8981 - val_loss: 0.3855 - val_accuracy: 0.8519\n",
            "Epoch 76/500\n",
            "7/7 [==============================] - 0s 13ms/step - loss: 0.3367 - accuracy: 0.8843 - val_loss: 0.4145 - val_accuracy: 0.8333\n",
            "Epoch 77/500\n",
            "7/7 [==============================] - 0s 15ms/step - loss: 0.3262 - accuracy: 0.8935 - val_loss: 0.4229 - val_accuracy: 0.8333\n",
            "Epoch 78/500\n",
            "7/7 [==============================] - 0s 14ms/step - loss: 0.3239 - accuracy: 0.8889 - val_loss: 0.4260 - val_accuracy: 0.8333\n",
            "Epoch 79/500\n",
            "7/7 [==============================] - 0s 15ms/step - loss: 0.3454 - accuracy: 0.8796 - val_loss: 0.4434 - val_accuracy: 0.8333\n",
            "Epoch 80/500\n",
            "7/7 [==============================] - 0s 15ms/step - loss: 0.3421 - accuracy: 0.8935 - val_loss: 0.4543 - val_accuracy: 0.8519\n",
            "Epoch 81/500\n",
            "7/7 [==============================] - 0s 15ms/step - loss: 0.2958 - accuracy: 0.9120 - val_loss: 0.4435 - val_accuracy: 0.8519\n",
            "Epoch 82/500\n",
            "7/7 [==============================] - 0s 15ms/step - loss: 0.2833 - accuracy: 0.9213 - val_loss: 0.4434 - val_accuracy: 0.8519\n",
            "Epoch 83/500\n",
            "7/7 [==============================] - 0s 14ms/step - loss: 0.2837 - accuracy: 0.9120 - val_loss: 0.4534 - val_accuracy: 0.8333\n",
            "Epoch 84/500\n",
            "7/7 [==============================] - 0s 15ms/step - loss: 0.3236 - accuracy: 0.9167 - val_loss: 0.4541 - val_accuracy: 0.8333\n",
            "Epoch 85/500\n",
            "7/7 [==============================] - 0s 16ms/step - loss: 0.3306 - accuracy: 0.8889 - val_loss: 0.4422 - val_accuracy: 0.8333\n",
            "Epoch 85: early stopping\n"
          ]
        }
      ]
    },
    {
      "cell_type": "markdown",
      "source": [
        "# **The early stopping comes out to be 85 epochs.**\n",
        "# **1. Validation Accuracy = 83.33%**\n",
        "# **2. Accuracy = 88%**"
      ],
      "metadata": {
        "id": "ZaqpiwyHtNVr"
      }
    },
    {
      "cell_type": "code",
      "source": [
        "import matplotlib.pyplot as plt\n",
        "plt.plot(history.history['loss'], label = 'loss')\n",
        "plt.plot(history.history['val_loss'], label = 'validation_loss')\n",
        "plt.legend()\n",
        "plt.show()"
      ],
      "metadata": {
        "colab": {
          "base_uri": "https://localhost:8080/",
          "height": 430
        },
        "id": "XPTs2js6rPtH",
        "outputId": "ececee2c-333b-40a5-a76e-765b788bb2b3"
      },
      "execution_count": 81,
      "outputs": [
        {
          "output_type": "display_data",
          "data": {
            "text/plain": [
              "<Figure size 640x480 with 1 Axes>"
            ],
            "image/png": "[encoded data removed]"
          },
          "metadata": {}
        }
      ]
    },
    {
      "cell_type": "code",
      "source": [
        "plt.plot(history.history['accuracy'])\n",
        "plt.plot(history.history['val_accuracy'])\n",
        "plt.show()"
      ],
      "metadata": {
        "id": "VaIjXp9-szx4",
        "outputId": "e4792d31-49db-49b1-b9b7-7692282548c0",
        "colab": {
          "base_uri": "https://localhost:8080/",
          "height": 430
        }
      },
      "execution_count": 82,
      "outputs": [
        {
          "output_type": "display_data",
          "data": {
            "text/plain": [
              "<Figure size 640x480 with 1 Axes>"
            ],
            "image/png": "[encoded data removed]"
          },
          "metadata": {}
        }
      ]
    },
    {
      "cell_type": "code",
      "source": [
        "pip install -U keras-tuner"
      ],
      "metadata": {
        "colab": {
          "base_uri": "https://localhost:8080/"
        },
        "id": "GufzUBf1fTP5",
        "outputId": "a8aaf7e5-2dd2-45c1-b060-24b0415283b5"
      },
      "execution_count": 27,
      "outputs": [
        {
          "output_type": "stream",
          "name": "stdout",
          "text": [
            "Collecting keras-tuner\n",
            "  Downloading keras_tuner-1.4.7-py3-none-any.whl (129 kB)\n",
            "\u001b[2K     \u001b[90m━━━━━━━━━━━━━━━━━━━━━━━━━━━━━━━━━━━━━━━━\u001b[0m \u001b[32m129.1/129.1 kB\u001b[0m \u001b[31m3.5 MB/s\u001b[0m eta \u001b[36m0:00:00\u001b[0m\n",
            "\u001b[?25hRequirement already satisfied: keras in /usr/local/lib/python3.10/dist-packages (from keras-tuner) (2.15.0)\n",
            "Requirement already satisfied: packaging in /usr/local/lib/python3.10/dist-packages (from keras-tuner) (24.1)\n",
            "Requirement already satisfied: requests in /usr/local/lib/python3.10/dist-packages (from keras-tuner) (2.31.0)\n",
            "Collecting kt-legacy (from keras-tuner)\n",
            "  Downloading kt_legacy-1.0.5-py3-none-any.whl (9.6 kB)\n",
            "Requirement already satisfied: charset-normalizer<4,>=2 in /usr/local/lib/python3.10/dist-packages (from requests->keras-tuner) (3.3.2)\n",
            "Requirement already satisfied: idna<4,>=2.5 in /usr/local/lib/python3.10/dist-packages (from requests->keras-tuner) (3.7)\n",
            "Requirement already satisfied: urllib3<3,>=1.21.1 in /usr/local/lib/python3.10/dist-packages (from requests->keras-tuner) (2.0.7)\n",
            "Requirement already satisfied: certifi>=2017.4.17 in /usr/local/lib/python3.10/dist-packages (from requests->keras-tuner) (2024.7.4)\n",
            "Installing collected packages: kt-legacy, keras-tuner\n",
            "Successfully installed keras-tuner-1.4.7 kt-legacy-1.0.5\n"
          ]
        }
      ]
    },
    {
      "cell_type": "markdown",
      "source": [
        "# **Hyperparameter Tunning**\n",
        "\n",
        "1. Finding the best Optimizer\n",
        "2. Finding best no of nodes\n",
        "3. Finding best no of layers"
      ],
      "metadata": {
        "id": "UqeIg2YvdlLQ"
      }
    },
    {
      "cell_type": "code",
      "source": [
        "import kerastuner as kt"
      ],
      "metadata": {
        "colab": {
          "base_uri": "https://localhost:8080/"
        },
        "id": "H9dT29TufO5O",
        "outputId": "229e4c8c-bfac-448b-f5e7-c2495194d48c"
      },
      "execution_count": 28,
      "outputs": [
        {
          "output_type": "stream",
          "name": "stderr",
          "text": [
            "<ipython-input-28-5fd8096cdee5>:1: DeprecationWarning: `import kerastuner` is deprecated, please use `import keras_tuner`.\n",
            "  import kerastuner as kt\n"
          ]
        }
      ]
    },
    {
      "cell_type": "markdown",
      "source": [
        "**1. Finding the best optimizer**"
      ],
      "metadata": {
        "id": "xVErIrq2e_1G"
      }
    },
    {
      "cell_type": "code",
      "source": [
        "def build_model(hp):\n",
        "  model = Sequential()\n",
        "  model.add(Dense(32, input_shape=(13,), activation = 'relu', kernel_regularizer = tensorflow.keras.regularizers.l2(.001)))\n",
        "  model.add(Dense(16, input_shape=(13,), activation = 'relu', kernel_regularizer = tensorflow.keras.regularizers.l2(.001)))\n",
        "  model.add(Dense(16, input_shape=(13,), activation = 'relu', kernel_regularizer = tensorflow.keras.regularizers.l2(.001)))\n",
        "  model.add(Dense(8, input_shape=(13,), activation = 'relu', kernel_regularizer = tensorflow.keras.regularizers.l2(.001)))\n",
        "  model.add(Dense(1, activation = 'sigmoid'))\n",
        "  optimizers=hp.Choice(\"optimizer\", values=['adam', 'sgd', 'rmsprop', 'adadelta'])\n",
        "  model.compile(optimizer=optimizers, loss='binary_crossentropy', metrics=['accuracy'])\n",
        "  return model"
      ],
      "metadata": {
        "id": "0v7Vjb8VtCam"
      },
      "execution_count": 25,
      "outputs": []
    },
    {
      "cell_type": "code",
      "source": [
        "tuner =kt.RandomSearch(\n",
        "    build_model,\n",
        "    objective=\"val_accuracy\",\n",
        "    max_trials =5\n",
        ")"
      ],
      "metadata": {
        "colab": {
          "base_uri": "https://localhost:8080/"
        },
        "id": "X8JldSyGfF6h",
        "outputId": "8d8348bb-5008-4967-9ed7-ddec96963c37"
      },
      "execution_count": 83,
      "outputs": [
        {
          "output_type": "stream",
          "name": "stdout",
          "text": [
            "Reloading Tuner from ./untitled_project/tuner0.json\n"
          ]
        }
      ]
    },
    {
      "cell_type": "code",
      "source": [
        "tuner.search(X_train, y_train, epochs=5, validation_data=(X_test, y_test))"
      ],
      "metadata": {
        "id": "g8_JlpWufioC"
      },
      "execution_count": 84,
      "outputs": []
    },
    {
      "cell_type": "code",
      "source": [
        "tuner.get_best_hyperparameters()[0].values"
      ],
      "metadata": {
        "colab": {
          "base_uri": "https://localhost:8080/"
        },
        "id": "yiCFwsPuf1Aa",
        "outputId": "8171be00-c68f-4f99-e4a1-47be3252d5e3"
      },
      "execution_count": 85,
      "outputs": [
        {
          "output_type": "execute_result",
          "data": {
            "text/plain": [
              "{'optimizer': 'adam'}"
            ]
          },
          "metadata": {},
          "execution_count": 85
        }
      ]
    },
    {
      "cell_type": "markdown",
      "source": [
        "# Since it shows that the best optimizer in this case is **Adam**"
      ],
      "metadata": {
        "id": "gwd_p9RLgDqy"
      }
    },
    {
      "cell_type": "code",
      "source": [
        "import shutil\n",
        "shutil.rmtree('project2/optimizer', ignore_errors=True)  # Clear previous tuner results"
      ],
      "metadata": {
        "id": "zR_GHfASiAfR"
      },
      "execution_count": 51,
      "outputs": []
    },
    {
      "cell_type": "markdown",
      "source": [
        "# **2. Finding the best no of nodes in each**"
      ],
      "metadata": {
        "id": "dWnrjHqyt0_5"
      }
    },
    {
      "cell_type": "code",
      "source": [
        "def build_model(hp):\n",
        "    model = Sequential()\n",
        "    units = hp.Int(\"units\", min_value=8, max_value=128, step=8)\n",
        "    model.add(Dense(units=units, input_shape=(13,), activation='relu', kernel_regularizer=tf.keras.regularizers.l2(0.001)))\n",
        "    model.add(Dense(units=units, activation='relu', kernel_regularizer=tf.keras.regularizers.l2(0.001)))\n",
        "    model.add(Dense(units=units, activation='relu', kernel_regularizer=tf.keras.regularizers.l2(0.001)))\n",
        "    model.add(Dense(1, activation='sigmoid'))\n",
        "    model.compile(optimizer='adam', loss='binary_crossentropy', metrics=['accuracy'])\n",
        "    return model\n",
        "\n",
        "tuner = kt.RandomSearch(\n",
        "    build_model,\n",
        "    objective='val_accuracy',\n",
        "    max_trials=5,\n",
        "    directory='my_dir/units',\n",
        "    project_name='tuner'\n",
        ")\n",
        "\n",
        "tuner.search(\n",
        "    X_train, y_train, epochs=5, validation_data=(X_test, y_test)\n",
        ")\n",
        "\n",
        "best_hp = tuner.get_best_hyperparameters()[0]\n",
        "best_units = best_hp.get('units')\n",
        "print(f\"Optimal number of units: {best_units}\")\n"
      ],
      "metadata": {
        "colab": {
          "base_uri": "https://localhost:8080/"
        },
        "id": "dQ1UOvomgCIU",
        "outputId": "4084c6e8-b41f-49e5-ac33-c203a936eb04"
      },
      "execution_count": 87,
      "outputs": [
        {
          "output_type": "stream",
          "name": "stdout",
          "text": [
            "Reloading Tuner from my_dir/units/tuner/tuner0.json\n",
            "Optimal number of units: 64\n"
          ]
        }
      ]
    },
    {
      "cell_type": "markdown",
      "source": [
        "# **3. Finding the best no of Layers**"
      ],
      "metadata": {
        "id": "xqBpJSuEuAU7"
      }
    },
    {
      "cell_type": "code",
      "source": [
        "def build_model(hp):\n",
        "    model = Sequential()\n",
        "    model.add(Dense(units=64, input_shape=(13,), activation='relu', kernel_regularizer=tf.keras.regularizers.l2(0.001)))\n",
        "    for i in range(hp.Int(\"num_of_layers\", min_value=1, max_value=5)):\n",
        "      model.add(Dense(units=32, activation='relu', kernel_regularizer=tf.keras.regularizers.l2(0.001)))\n",
        "\n",
        "    model.add(Dense(1, activation='sigmoid'))\n",
        "\n",
        "    model.compile(optimizer='adam', loss='binary_crossentropy', metrics=['accuracy'])\n",
        "\n",
        "    return model\n"
      ],
      "metadata": {
        "id": "nwGZN155hBOd"
      },
      "execution_count": 88,
      "outputs": []
    },
    {
      "cell_type": "code",
      "source": [
        "tuner = kt.RandomSearch(\n",
        "    build_model,\n",
        "    objective='val_accuracy',\n",
        "    max_trials=5,\n",
        "    directory='my_dir/no_of_layers',\n",
        "    project_name='tuner'\n",
        ")\n",
        "\n",
        "tuner.search(\n",
        "    X_train, y_train, epochs=5, validation_data=(X_test, y_test)\n",
        ")\n",
        "\n",
        "best_hp = tuner.get_best_hyperparameters()[0]\n",
        "best_num_of_layers = best_hp.get('num_of_layers')\n",
        "print(f\"Optimal number of layers: {best_num_of_layers}\")\n"
      ],
      "metadata": {
        "colab": {
          "base_uri": "https://localhost:8080/"
        },
        "id": "nODQQQJ8hXz1",
        "outputId": "854c6953-e63c-4052-b01f-1164ef3d0990"
      },
      "execution_count": 89,
      "outputs": [
        {
          "output_type": "stream",
          "name": "stdout",
          "text": [
            "Reloading Tuner from my_dir/no_of_layers/tuner/tuner0.json\n",
            "Optimal number of layers: 4\n"
          ]
        }
      ]
    },
    {
      "cell_type": "markdown",
      "source": [
        "**So the best number of layers with 32 units is 4.**"
      ],
      "metadata": {
        "id": "OBqDMelHkiqo"
      }
    },
    {
      "cell_type": "markdown",
      "source": [
        "So we have finded the best optimizer, # layers and # units in each layer\n",
        "\n",
        "1. Best Optimizer = Adam\n",
        "2. Best no of Layers = 5 (1 + 4)\n",
        "3. Best no of nodes in each layer = 32 x 4 + 1 x 64"
      ],
      "metadata": {
        "id": "pAWG_D_Ekz79"
      }
    },
    {
      "cell_type": "code",
      "source": [
        "model = Sequential()\n",
        "model.add(Dense(64, input_shape=(13,), activation = 'relu', kernel_regularizer = tensorflow.keras.regularizers.l2(.001)))\n",
        "model.add(Dense(32, activation = 'relu', kernel_regularizer = tensorflow.keras.regularizers.l2(.001)))\n",
        "model.add(Dropout(0.5))\n",
        "model.add(Dense(32, activation = 'relu', kernel_regularizer = tensorflow.keras.regularizers.l2(.001)))\n",
        "model.add(Dropout(0.5))\n",
        "model.add(Dense(32, activation = 'relu', kernel_regularizer = tensorflow.keras.regularizers.l2(.001)))\n",
        "model.add(Dropout(0.5))\n",
        "model.add(Dense(32, activation = 'relu', kernel_regularizer = tensorflow.keras.regularizers.l2(.001)))\n",
        "model.add(Dense(1, activation = 'sigmoid'))"
      ],
      "metadata": {
        "id": "6sBCKnuCh097"
      },
      "execution_count": 113,
      "outputs": []
    },
    {
      "cell_type": "code",
      "source": [
        "model.compile(\n",
        "    optimizer = \"adam\",\n",
        "    loss = \"binary_crossentropy\",\n",
        "    metrics = ['accuracy']\n",
        ")"
      ],
      "metadata": {
        "id": "Aw8sAScUh65x"
      },
      "execution_count": 114,
      "outputs": []
    },
    {
      "cell_type": "code",
      "source": [
        "callback = EarlyStopping(\n",
        "    monitor = \"val_loss\",\n",
        "    min_delta = 0.00001,\n",
        "    patience = 20,\n",
        "    verbose = 1,\n",
        "    mode='auto',\n",
        "    baseline = None,\n",
        "    restore_best_weights = None\n",
        ")"
      ],
      "metadata": {
        "id": "Jqzn7qq0m35S"
      },
      "execution_count": 111,
      "outputs": []
    },
    {
      "cell_type": "code",
      "source": [
        "history = model.fit(X_train, y_train, epochs=100, validation_data=(X_test, y_test), callbacks=callback)"
      ],
      "metadata": {
        "colab": {
          "base_uri": "https://localhost:8080/"
        },
        "id": "QCJ4UPhwmEUE",
        "outputId": "0c63d489-61d2-4999-8495-4f26bdcbea80"
      },
      "execution_count": 115,
      "outputs": [
        {
          "output_type": "stream",
          "name": "stdout",
          "text": [
            "Epoch 1/100\n",
            "7/7 [==============================] - 2s 41ms/step - loss: 0.9013 - accuracy: 0.4259 - val_loss: 0.8460 - val_accuracy: 0.4630\n",
            "Epoch 2/100\n",
            "7/7 [==============================] - 0s 8ms/step - loss: 0.8694 - accuracy: 0.5185 - val_loss: 0.8349 - val_accuracy: 0.6667\n",
            "Epoch 3/100\n",
            "7/7 [==============================] - 0s 11ms/step - loss: 0.8372 - accuracy: 0.5278 - val_loss: 0.8274 - val_accuracy: 0.7037\n",
            "Epoch 4/100\n",
            "7/7 [==============================] - 0s 11ms/step - loss: 0.8286 - accuracy: 0.5417 - val_loss: 0.8208 - val_accuracy: 0.6852\n",
            "Epoch 5/100\n",
            "7/7 [==============================] - 0s 11ms/step - loss: 0.8261 - accuracy: 0.6204 - val_loss: 0.8124 - val_accuracy: 0.7222\n",
            "Epoch 6/100\n",
            "7/7 [==============================] - 0s 12ms/step - loss: 0.8221 - accuracy: 0.6250 - val_loss: 0.8020 - val_accuracy: 0.7407\n",
            "Epoch 7/100\n",
            "7/7 [==============================] - 0s 11ms/step - loss: 0.8092 - accuracy: 0.6759 - val_loss: 0.7877 - val_accuracy: 0.7407\n",
            "Epoch 8/100\n",
            "7/7 [==============================] - 0s 9ms/step - loss: 0.8163 - accuracy: 0.6343 - val_loss: 0.7722 - val_accuracy: 0.7593\n",
            "Epoch 9/100\n",
            "7/7 [==============================] - 0s 9ms/step - loss: 0.7835 - accuracy: 0.6713 - val_loss: 0.7564 - val_accuracy: 0.7593\n",
            "Epoch 10/100\n",
            "7/7 [==============================] - 0s 8ms/step - loss: 0.7807 - accuracy: 0.6667 - val_loss: 0.7390 - val_accuracy: 0.7778\n",
            "Epoch 11/100\n",
            "7/7 [==============================] - 0s 9ms/step - loss: 0.7851 - accuracy: 0.6528 - val_loss: 0.7229 - val_accuracy: 0.7778\n",
            "Epoch 12/100\n",
            "7/7 [==============================] - 0s 12ms/step - loss: 0.7569 - accuracy: 0.6806 - val_loss: 0.7062 - val_accuracy: 0.7963\n",
            "Epoch 13/100\n",
            "7/7 [==============================] - 0s 12ms/step - loss: 0.7440 - accuracy: 0.7222 - val_loss: 0.6850 - val_accuracy: 0.8333\n",
            "Epoch 14/100\n",
            "7/7 [==============================] - 0s 13ms/step - loss: 0.6929 - accuracy: 0.8056 - val_loss: 0.6576 - val_accuracy: 0.8333\n",
            "Epoch 15/100\n",
            "7/7 [==============================] - 0s 13ms/step - loss: 0.6914 - accuracy: 0.7685 - val_loss: 0.6296 - val_accuracy: 0.8333\n",
            "Epoch 16/100\n",
            "7/7 [==============================] - 0s 13ms/step - loss: 0.6898 - accuracy: 0.7593 - val_loss: 0.6092 - val_accuracy: 0.8148\n",
            "Epoch 17/100\n",
            "7/7 [==============================] - 0s 13ms/step - loss: 0.6452 - accuracy: 0.7824 - val_loss: 0.5890 - val_accuracy: 0.8148\n",
            "Epoch 18/100\n",
            "7/7 [==============================] - 0s 9ms/step - loss: 0.6744 - accuracy: 0.7454 - val_loss: 0.5730 - val_accuracy: 0.8333\n",
            "Epoch 19/100\n",
            "7/7 [==============================] - 0s 9ms/step - loss: 0.6316 - accuracy: 0.7870 - val_loss: 0.5594 - val_accuracy: 0.8333\n",
            "Epoch 20/100\n",
            "7/7 [==============================] - 0s 12ms/step - loss: 0.6155 - accuracy: 0.7963 - val_loss: 0.5479 - val_accuracy: 0.8333\n",
            "Epoch 21/100\n",
            "7/7 [==============================] - 0s 12ms/step - loss: 0.5896 - accuracy: 0.8194 - val_loss: 0.5363 - val_accuracy: 0.8519\n",
            "Epoch 22/100\n",
            "7/7 [==============================] - 0s 9ms/step - loss: 0.5995 - accuracy: 0.8241 - val_loss: 0.5285 - val_accuracy: 0.8519\n",
            "Epoch 23/100\n",
            "7/7 [==============================] - 0s 11ms/step - loss: 0.5890 - accuracy: 0.8287 - val_loss: 0.5243 - val_accuracy: 0.8519\n",
            "Epoch 24/100\n",
            "7/7 [==============================] - 0s 9ms/step - loss: 0.5387 - accuracy: 0.8472 - val_loss: 0.5206 - val_accuracy: 0.8519\n",
            "Epoch 25/100\n",
            "7/7 [==============================] - 0s 9ms/step - loss: 0.5911 - accuracy: 0.8333 - val_loss: 0.5182 - val_accuracy: 0.8704\n",
            "Epoch 26/100\n",
            "7/7 [==============================] - 0s 25ms/step - loss: 0.5472 - accuracy: 0.8056 - val_loss: 0.5140 - val_accuracy: 0.8704\n",
            "Epoch 27/100\n",
            "7/7 [==============================] - 0s 20ms/step - loss: 0.5271 - accuracy: 0.8287 - val_loss: 0.5091 - val_accuracy: 0.8704\n",
            "Epoch 28/100\n",
            "7/7 [==============================] - 0s 17ms/step - loss: 0.4983 - accuracy: 0.8426 - val_loss: 0.5036 - val_accuracy: 0.8704\n",
            "Epoch 29/100\n",
            "7/7 [==============================] - 0s 14ms/step - loss: 0.5044 - accuracy: 0.8519 - val_loss: 0.5000 - val_accuracy: 0.8704\n",
            "Epoch 30/100\n",
            "7/7 [==============================] - 0s 14ms/step - loss: 0.5509 - accuracy: 0.8565 - val_loss: 0.4994 - val_accuracy: 0.8519\n",
            "Epoch 31/100\n",
            "7/7 [==============================] - 0s 16ms/step - loss: 0.4767 - accuracy: 0.8611 - val_loss: 0.5008 - val_accuracy: 0.8519\n",
            "Epoch 32/100\n",
            "7/7 [==============================] - 0s 15ms/step - loss: 0.5094 - accuracy: 0.8796 - val_loss: 0.4971 - val_accuracy: 0.8519\n",
            "Epoch 33/100\n",
            "7/7 [==============================] - 0s 9ms/step - loss: 0.5299 - accuracy: 0.8704 - val_loss: 0.4947 - val_accuracy: 0.8519\n",
            "Epoch 34/100\n",
            "7/7 [==============================] - 0s 10ms/step - loss: 0.4971 - accuracy: 0.8750 - val_loss: 0.4920 - val_accuracy: 0.8704\n",
            "Epoch 35/100\n",
            "7/7 [==============================] - 0s 12ms/step - loss: 0.4622 - accuracy: 0.8519 - val_loss: 0.4936 - val_accuracy: 0.8704\n",
            "Epoch 36/100\n",
            "7/7 [==============================] - 0s 16ms/step - loss: 0.4769 - accuracy: 0.8565 - val_loss: 0.4940 - val_accuracy: 0.8704\n",
            "Epoch 37/100\n",
            "7/7 [==============================] - 0s 10ms/step - loss: 0.4589 - accuracy: 0.8935 - val_loss: 0.4936 - val_accuracy: 0.8704\n",
            "Epoch 38/100\n",
            "7/7 [==============================] - 0s 14ms/step - loss: 0.5180 - accuracy: 0.8657 - val_loss: 0.4928 - val_accuracy: 0.8704\n",
            "Epoch 39/100\n",
            "7/7 [==============================] - 0s 23ms/step - loss: 0.4735 - accuracy: 0.8750 - val_loss: 0.4936 - val_accuracy: 0.8704\n",
            "Epoch 40/100\n",
            "7/7 [==============================] - 0s 28ms/step - loss: 0.4741 - accuracy: 0.8704 - val_loss: 0.4958 - val_accuracy: 0.8519\n",
            "Epoch 41/100\n",
            "7/7 [==============================] - 0s 30ms/step - loss: 0.4199 - accuracy: 0.8889 - val_loss: 0.4958 - val_accuracy: 0.8704\n",
            "Epoch 42/100\n",
            "7/7 [==============================] - 0s 28ms/step - loss: 0.4614 - accuracy: 0.8796 - val_loss: 0.4956 - val_accuracy: 0.8704\n",
            "Epoch 43/100\n",
            "7/7 [==============================] - 0s 16ms/step - loss: 0.4388 - accuracy: 0.8935 - val_loss: 0.4957 - val_accuracy: 0.8704\n",
            "Epoch 44/100\n",
            "7/7 [==============================] - 0s 29ms/step - loss: 0.4440 - accuracy: 0.8843 - val_loss: 0.4919 - val_accuracy: 0.8704\n",
            "Epoch 45/100\n",
            "7/7 [==============================] - 0s 24ms/step - loss: 0.4120 - accuracy: 0.8796 - val_loss: 0.4915 - val_accuracy: 0.8704\n",
            "Epoch 46/100\n",
            "7/7 [==============================] - 0s 19ms/step - loss: 0.4155 - accuracy: 0.8935 - val_loss: 0.4949 - val_accuracy: 0.8704\n",
            "Epoch 47/100\n",
            "7/7 [==============================] - 0s 21ms/step - loss: 0.4075 - accuracy: 0.9074 - val_loss: 0.4985 - val_accuracy: 0.8704\n",
            "Epoch 48/100\n",
            "7/7 [==============================] - 0s 20ms/step - loss: 0.4189 - accuracy: 0.9120 - val_loss: 0.4981 - val_accuracy: 0.8704\n",
            "Epoch 49/100\n",
            "7/7 [==============================] - 0s 17ms/step - loss: 0.4161 - accuracy: 0.8981 - val_loss: 0.5006 - val_accuracy: 0.8519\n",
            "Epoch 50/100\n",
            "7/7 [==============================] - 0s 17ms/step - loss: 0.4037 - accuracy: 0.8935 - val_loss: 0.5008 - val_accuracy: 0.8519\n",
            "Epoch 51/100\n",
            "7/7 [==============================] - 0s 24ms/step - loss: 0.4052 - accuracy: 0.8981 - val_loss: 0.4959 - val_accuracy: 0.8519\n",
            "Epoch 52/100\n",
            "7/7 [==============================] - 0s 30ms/step - loss: 0.4064 - accuracy: 0.8889 - val_loss: 0.4971 - val_accuracy: 0.8519\n",
            "Epoch 53/100\n",
            "7/7 [==============================] - 0s 29ms/step - loss: 0.4131 - accuracy: 0.8981 - val_loss: 0.5008 - val_accuracy: 0.8704\n",
            "Epoch 54/100\n",
            "7/7 [==============================] - 0s 30ms/step - loss: 0.3543 - accuracy: 0.9167 - val_loss: 0.5015 - val_accuracy: 0.8704\n",
            "Epoch 55/100\n",
            "7/7 [==============================] - 0s 33ms/step - loss: 0.3692 - accuracy: 0.9028 - val_loss: 0.5035 - val_accuracy: 0.8889\n",
            "Epoch 56/100\n",
            "7/7 [==============================] - 0s 27ms/step - loss: 0.3780 - accuracy: 0.9074 - val_loss: 0.5074 - val_accuracy: 0.8889\n",
            "Epoch 57/100\n",
            "7/7 [==============================] - 0s 25ms/step - loss: 0.3868 - accuracy: 0.8981 - val_loss: 0.5069 - val_accuracy: 0.8889\n",
            "Epoch 58/100\n",
            "7/7 [==============================] - 0s 23ms/step - loss: 0.3545 - accuracy: 0.9213 - val_loss: 0.5100 - val_accuracy: 0.8889\n",
            "Epoch 59/100\n",
            "7/7 [==============================] - 0s 21ms/step - loss: 0.3677 - accuracy: 0.9028 - val_loss: 0.5040 - val_accuracy: 0.8889\n",
            "Epoch 60/100\n",
            "7/7 [==============================] - 0s 16ms/step - loss: 0.3744 - accuracy: 0.9167 - val_loss: 0.5055 - val_accuracy: 0.8889\n",
            "Epoch 61/100\n",
            "7/7 [==============================] - 0s 27ms/step - loss: 0.3776 - accuracy: 0.9167 - val_loss: 0.5090 - val_accuracy: 0.8889\n",
            "Epoch 62/100\n",
            "7/7 [==============================] - 0s 32ms/step - loss: 0.3593 - accuracy: 0.9352 - val_loss: 0.5088 - val_accuracy: 0.8889\n",
            "Epoch 63/100\n",
            "7/7 [==============================] - 0s 32ms/step - loss: 0.3328 - accuracy: 0.9167 - val_loss: 0.5008 - val_accuracy: 0.8889\n",
            "Epoch 64/100\n",
            "7/7 [==============================] - 0s 19ms/step - loss: 0.3194 - accuracy: 0.9213 - val_loss: 0.5064 - val_accuracy: 0.8889\n",
            "Epoch 65/100\n",
            "7/7 [==============================] - 0s 11ms/step - loss: 0.3551 - accuracy: 0.9074 - val_loss: 0.5132 - val_accuracy: 0.8889\n",
            "Epoch 65: early stopping\n"
          ]
        }
      ]
    },
    {
      "cell_type": "markdown",
      "source": [
        "# **So after the best hyperparameter tunning we got better results**\n",
        "# **1. New Validation Accuracy = 88.89%**\n",
        "# **2. New Accuracy = 90.74%**"
      ],
      "metadata": {
        "id": "PcEu6gdtuJKW"
      }
    },
    {
      "cell_type": "code",
      "source": [
        "plt.plot(history.history['accuracy'], label='Accuracy')\n",
        "plt.plot(history.history['val_accuracy'], label=\"Validation Accuracy\")\n",
        "plt.legend()\n",
        "plt.show()"
      ],
      "metadata": {
        "colab": {
          "base_uri": "https://localhost:8080/",
          "height": 430
        },
        "id": "423ukv6umRIz",
        "outputId": "af6395ee-b5d0-4941-d51e-1065026bedd7"
      },
      "execution_count": 118,
      "outputs": [
        {
          "output_type": "display_data",
          "data": {
            "text/plain": [
              "<Figure size 640x480 with 1 Axes>"
            ],
            "image/png": "[encoded data removed]"
          },
          "metadata": {}
        }
      ]
    },
    {
      "cell_type": "code",
      "source": [
        "plt.plot(history.history['loss'], label='Loss')\n",
        "plt.plot(history.history['val_loss'], label=\"Validation Loss\")\n",
        "plt.legend()\n",
        "plt.show()"
      ],
      "metadata": {
        "colab": {
          "base_uri": "https://localhost:8080/",
          "height": 430
        },
        "id": "_JXiYAixqHeu",
        "outputId": "61fd1be1-12cb-4639-db3e-b4d7bcce1722"
      },
      "execution_count": 119,
      "outputs": [
        {
          "output_type": "display_data",
          "data": {
            "text/plain": [
              "<Figure size 640x480 with 1 Axes>"
            ],
            "image/png": "[encoded data removed]"
          },
          "metadata": {}
        }
      ]
    },
    {
      "cell_type": "code",
      "source": [
        "import pickle\n",
        "pickle.dump(model, open(\"heart_disease_pred_model.pkl\", \"wb\"))"
      ],
      "metadata": {
        "id": "y28-nmW9qlD2"
      },
      "execution_count": 121,
      "outputs": []
    },
    {
      "cell_type": "code",
      "source": [],
      "metadata": {
        "id": "xZVVDcvQrbNq"
      },
      "execution_count": null,
      "outputs": []
    }
  ]
}
